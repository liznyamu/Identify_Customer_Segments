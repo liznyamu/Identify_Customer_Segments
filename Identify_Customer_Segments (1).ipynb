{
 "cells": [
  {
   "cell_type": "markdown",
   "metadata": {},
   "source": [
    "# Project: Identify Customer Segments\n",
    "\n",
    "In this project, you will apply unsupervised learning techniques to identify segments of the population that form the core customer base for a mail-order sales company in Germany. These segments can then be used to direct marketing campaigns towards audiences that will have the highest expected rate of returns. The data that you will use has been provided by our partners at Bertelsmann Arvato Analytics, and represents a real-life data science task.\n",
    "\n",
    "This notebook will help you complete this task by providing a framework within which you will perform your analysis steps. In each step of the project, you will see some text describing the subtask that you will perform, followed by one or more code cells for you to complete your work. **Feel free to add additional code and markdown cells as you go along so that you can explore everything in precise chunks.** The code cells provided in the base template will outline only the major tasks, and will usually not be enough to cover all of the minor tasks that comprise it.\n",
    "\n",
    "It should be noted that while there will be precise guidelines on how you should handle certain tasks in the project, there will also be places where an exact specification is not provided. **There will be times in the project where you will need to make and justify your own decisions on how to treat the data.** These are places where there may not be only one way to handle the data. In real-life tasks, there may be many valid ways to approach an analysis task. One of the most important things you can do is clearly document your approach so that other scientists can understand the decisions you've made.\n",
    "\n",
    "At the end of most sections, there will be a Markdown cell labeled **Discussion**. In these cells, you will report your findings for the completed section, as well as document the decisions that you made in your approach to each subtask. **Your project will be evaluated not just on the code used to complete the tasks outlined, but also your communication about your observations and conclusions at each stage.**"
   ]
  },
  {
   "cell_type": "code",
   "execution_count": 141,
   "metadata": {},
   "outputs": [],
   "source": [
    "# import libraries here; add more as necessary\n",
    "import numpy as np\n",
    "import pandas as pd\n",
    "import matplotlib.pyplot as plt\n",
    "import seaborn as sns\n",
    "from sklearn.preprocessing import StandardScaler\n",
    "from sklearn.decomposition import PCA\n",
    "from sklearn.cluster import KMeans\n",
    "\n",
    "# magic word for producing visualizations in notebook\n",
    "%matplotlib inline"
   ]
  },
  {
   "cell_type": "markdown",
   "metadata": {},
   "source": [
    "### Step 0: Load the Data\n",
    "\n",
    "There are four files associated with this project (not including this one):\n",
    "\n",
    "- `Udacity_AZDIAS_Subset.csv`: Demographics data for the general population of Germany; 891211 persons (rows) x 85 features (columns).\n",
    "- `Udacity_CUSTOMERS_Subset.csv`: Demographics data for customers of a mail-order company; 191652 persons (rows) x 85 features (columns).\n",
    "- `Data_Dictionary.md`: Detailed information file about the features in the provided datasets.\n",
    "- `AZDIAS_Feature_Summary.csv`: Summary of feature attributes for demographics data; 85 features (rows) x 4 columns\n",
    "\n",
    "Each row of the demographics files represents a single person, but also includes information outside of individuals, including information about their household, building, and neighborhood. You will use this information to cluster the general population into groups with similar demographic properties. Then, you will see how the people in the customers dataset fit into those created clusters. The hope here is that certain clusters are over-represented in the customers data, as compared to the general population; those over-represented clusters will be assumed to be part of the core userbase. This information can then be used for further applications, such as targeting for a marketing campaign.\n",
    "\n",
    "To start off with, load in the demographics data for the general population into a pandas DataFrame, and do the same for the feature attributes summary. Note for all of the `.csv` data files in this project: they're semicolon (`;`) delimited, so you'll need an additional argument in your [`read_csv()`](https://pandas.pydata.org/pandas-docs/stable/generated/pandas.read_csv.html) call to read in the data properly. Also, considering the size of the main dataset, it may take some time for it to load completely.\n",
    "\n",
    "Once the dataset is loaded, it's recommended that you take a little bit of time just browsing the general structure of the dataset and feature summary file. You'll be getting deep into the innards of the cleaning in the first major step of the project, so gaining some general familiarity can help you get your bearings."
   ]
  },
  {
   "cell_type": "code",
   "execution_count": 2,
   "metadata": {},
   "outputs": [],
   "source": [
    "# Load in the general demographics data.\n",
    "azdias = pd.read_csv('Udacity_AZDIAS_Subset.csv', delimiter=';')\n",
    "\n",
    "# Load in the feature summary file.\n",
    "feat_info = pd.read_csv('AZDIAS_Feature_Summary.csv', delimiter=';')"
   ]
  },
  {
   "cell_type": "code",
   "execution_count": 3,
   "metadata": {},
   "outputs": [],
   "source": [
    "# create copy of data to maintain original data\n",
    "azdias_original = azdias.copy()\n",
    "feat_info_original = feat_info.copy()"
   ]
  },
  {
   "cell_type": "code",
   "execution_count": 4,
   "metadata": {},
   "outputs": [
    {
     "name": "stdout",
     "output_type": "stream",
     "text": [
      "Exploring General Demographics Data :-\n",
      "Data Structure : 891221 rows, 85 columns\n",
      "First few rows ....\n"
     ]
    },
    {
     "data": {
      "text/html": [
       "<div>\n",
       "<style scoped>\n",
       "    .dataframe tbody tr th:only-of-type {\n",
       "        vertical-align: middle;\n",
       "    }\n",
       "\n",
       "    .dataframe tbody tr th {\n",
       "        vertical-align: top;\n",
       "    }\n",
       "\n",
       "    .dataframe thead th {\n",
       "        text-align: right;\n",
       "    }\n",
       "</style>\n",
       "<table border=\"1\" class=\"dataframe\">\n",
       "  <thead>\n",
       "    <tr style=\"text-align: right;\">\n",
       "      <th></th>\n",
       "      <th>AGER_TYP</th>\n",
       "      <th>ALTERSKATEGORIE_GROB</th>\n",
       "      <th>ANREDE_KZ</th>\n",
       "      <th>CJT_GESAMTTYP</th>\n",
       "      <th>FINANZ_MINIMALIST</th>\n",
       "      <th>FINANZ_SPARER</th>\n",
       "      <th>FINANZ_VORSORGER</th>\n",
       "      <th>FINANZ_ANLEGER</th>\n",
       "      <th>FINANZ_UNAUFFAELLIGER</th>\n",
       "      <th>FINANZ_HAUSBAUER</th>\n",
       "      <th>...</th>\n",
       "      <th>PLZ8_ANTG1</th>\n",
       "      <th>PLZ8_ANTG2</th>\n",
       "      <th>PLZ8_ANTG3</th>\n",
       "      <th>PLZ8_ANTG4</th>\n",
       "      <th>PLZ8_BAUMAX</th>\n",
       "      <th>PLZ8_HHZ</th>\n",
       "      <th>PLZ8_GBZ</th>\n",
       "      <th>ARBEIT</th>\n",
       "      <th>ORTSGR_KLS9</th>\n",
       "      <th>RELAT_AB</th>\n",
       "    </tr>\n",
       "  </thead>\n",
       "  <tbody>\n",
       "    <tr>\n",
       "      <th>0</th>\n",
       "      <td>-1</td>\n",
       "      <td>2</td>\n",
       "      <td>1</td>\n",
       "      <td>2.0</td>\n",
       "      <td>3</td>\n",
       "      <td>4</td>\n",
       "      <td>3</td>\n",
       "      <td>5</td>\n",
       "      <td>5</td>\n",
       "      <td>3</td>\n",
       "      <td>...</td>\n",
       "      <td>NaN</td>\n",
       "      <td>NaN</td>\n",
       "      <td>NaN</td>\n",
       "      <td>NaN</td>\n",
       "      <td>NaN</td>\n",
       "      <td>NaN</td>\n",
       "      <td>NaN</td>\n",
       "      <td>NaN</td>\n",
       "      <td>NaN</td>\n",
       "      <td>NaN</td>\n",
       "    </tr>\n",
       "    <tr>\n",
       "      <th>1</th>\n",
       "      <td>-1</td>\n",
       "      <td>1</td>\n",
       "      <td>2</td>\n",
       "      <td>5.0</td>\n",
       "      <td>1</td>\n",
       "      <td>5</td>\n",
       "      <td>2</td>\n",
       "      <td>5</td>\n",
       "      <td>4</td>\n",
       "      <td>5</td>\n",
       "      <td>...</td>\n",
       "      <td>2.0</td>\n",
       "      <td>3.0</td>\n",
       "      <td>2.0</td>\n",
       "      <td>1.0</td>\n",
       "      <td>1.0</td>\n",
       "      <td>5.0</td>\n",
       "      <td>4.0</td>\n",
       "      <td>3.0</td>\n",
       "      <td>5.0</td>\n",
       "      <td>4.0</td>\n",
       "    </tr>\n",
       "    <tr>\n",
       "      <th>2</th>\n",
       "      <td>-1</td>\n",
       "      <td>3</td>\n",
       "      <td>2</td>\n",
       "      <td>3.0</td>\n",
       "      <td>1</td>\n",
       "      <td>4</td>\n",
       "      <td>1</td>\n",
       "      <td>2</td>\n",
       "      <td>3</td>\n",
       "      <td>5</td>\n",
       "      <td>...</td>\n",
       "      <td>3.0</td>\n",
       "      <td>3.0</td>\n",
       "      <td>1.0</td>\n",
       "      <td>0.0</td>\n",
       "      <td>1.0</td>\n",
       "      <td>4.0</td>\n",
       "      <td>4.0</td>\n",
       "      <td>3.0</td>\n",
       "      <td>5.0</td>\n",
       "      <td>2.0</td>\n",
       "    </tr>\n",
       "    <tr>\n",
       "      <th>3</th>\n",
       "      <td>2</td>\n",
       "      <td>4</td>\n",
       "      <td>2</td>\n",
       "      <td>2.0</td>\n",
       "      <td>4</td>\n",
       "      <td>2</td>\n",
       "      <td>5</td>\n",
       "      <td>2</td>\n",
       "      <td>1</td>\n",
       "      <td>2</td>\n",
       "      <td>...</td>\n",
       "      <td>2.0</td>\n",
       "      <td>2.0</td>\n",
       "      <td>2.0</td>\n",
       "      <td>0.0</td>\n",
       "      <td>1.0</td>\n",
       "      <td>3.0</td>\n",
       "      <td>4.0</td>\n",
       "      <td>2.0</td>\n",
       "      <td>3.0</td>\n",
       "      <td>3.0</td>\n",
       "    </tr>\n",
       "    <tr>\n",
       "      <th>4</th>\n",
       "      <td>-1</td>\n",
       "      <td>3</td>\n",
       "      <td>1</td>\n",
       "      <td>5.0</td>\n",
       "      <td>4</td>\n",
       "      <td>3</td>\n",
       "      <td>4</td>\n",
       "      <td>1</td>\n",
       "      <td>3</td>\n",
       "      <td>2</td>\n",
       "      <td>...</td>\n",
       "      <td>2.0</td>\n",
       "      <td>4.0</td>\n",
       "      <td>2.0</td>\n",
       "      <td>1.0</td>\n",
       "      <td>2.0</td>\n",
       "      <td>3.0</td>\n",
       "      <td>3.0</td>\n",
       "      <td>4.0</td>\n",
       "      <td>6.0</td>\n",
       "      <td>5.0</td>\n",
       "    </tr>\n",
       "  </tbody>\n",
       "</table>\n",
       "<p>5 rows × 85 columns</p>\n",
       "</div>"
      ],
      "text/plain": [
       "   AGER_TYP  ALTERSKATEGORIE_GROB  ANREDE_KZ  CJT_GESAMTTYP  \\\n",
       "0        -1                     2          1            2.0   \n",
       "1        -1                     1          2            5.0   \n",
       "2        -1                     3          2            3.0   \n",
       "3         2                     4          2            2.0   \n",
       "4        -1                     3          1            5.0   \n",
       "\n",
       "   FINANZ_MINIMALIST  FINANZ_SPARER  FINANZ_VORSORGER  FINANZ_ANLEGER  \\\n",
       "0                  3              4                 3               5   \n",
       "1                  1              5                 2               5   \n",
       "2                  1              4                 1               2   \n",
       "3                  4              2                 5               2   \n",
       "4                  4              3                 4               1   \n",
       "\n",
       "   FINANZ_UNAUFFAELLIGER  FINANZ_HAUSBAUER    ...     PLZ8_ANTG1  PLZ8_ANTG2  \\\n",
       "0                      5                 3    ...            NaN         NaN   \n",
       "1                      4                 5    ...            2.0         3.0   \n",
       "2                      3                 5    ...            3.0         3.0   \n",
       "3                      1                 2    ...            2.0         2.0   \n",
       "4                      3                 2    ...            2.0         4.0   \n",
       "\n",
       "   PLZ8_ANTG3  PLZ8_ANTG4  PLZ8_BAUMAX  PLZ8_HHZ  PLZ8_GBZ  ARBEIT  \\\n",
       "0         NaN         NaN          NaN       NaN       NaN     NaN   \n",
       "1         2.0         1.0          1.0       5.0       4.0     3.0   \n",
       "2         1.0         0.0          1.0       4.0       4.0     3.0   \n",
       "3         2.0         0.0          1.0       3.0       4.0     2.0   \n",
       "4         2.0         1.0          2.0       3.0       3.0     4.0   \n",
       "\n",
       "   ORTSGR_KLS9  RELAT_AB  \n",
       "0          NaN       NaN  \n",
       "1          5.0       4.0  \n",
       "2          5.0       2.0  \n",
       "3          3.0       3.0  \n",
       "4          6.0       5.0  \n",
       "\n",
       "[5 rows x 85 columns]"
      ]
     },
     "execution_count": 4,
     "metadata": {},
     "output_type": "execute_result"
    }
   ],
   "source": [
    "# Check the structure of the data after it's loaded (e.g. print the number of\n",
    "# rows and columns, print the first few rows).\n",
    "print('Exploring General Demographics Data :-')\n",
    "print('Data Structure : {} rows, {} columns'.format(azdias.shape[0], azdias.shape[1]))\n",
    "print('First few rows ....')\n",
    "azdias.head()"
   ]
  },
  {
   "cell_type": "code",
   "execution_count": 5,
   "metadata": {},
   "outputs": [
    {
     "name": "stdout",
     "output_type": "stream",
     "text": [
      "Exploring Feature Summary File :-\n",
      "Data Structure : 85 rows, 4 columns\n",
      "First few rows ....\n"
     ]
    },
    {
     "data": {
      "text/html": [
       "<div>\n",
       "<style scoped>\n",
       "    .dataframe tbody tr th:only-of-type {\n",
       "        vertical-align: middle;\n",
       "    }\n",
       "\n",
       "    .dataframe tbody tr th {\n",
       "        vertical-align: top;\n",
       "    }\n",
       "\n",
       "    .dataframe thead th {\n",
       "        text-align: right;\n",
       "    }\n",
       "</style>\n",
       "<table border=\"1\" class=\"dataframe\">\n",
       "  <thead>\n",
       "    <tr style=\"text-align: right;\">\n",
       "      <th></th>\n",
       "      <th>attribute</th>\n",
       "      <th>information_level</th>\n",
       "      <th>type</th>\n",
       "      <th>missing_or_unknown</th>\n",
       "    </tr>\n",
       "  </thead>\n",
       "  <tbody>\n",
       "    <tr>\n",
       "      <th>0</th>\n",
       "      <td>AGER_TYP</td>\n",
       "      <td>person</td>\n",
       "      <td>categorical</td>\n",
       "      <td>[-1,0]</td>\n",
       "    </tr>\n",
       "    <tr>\n",
       "      <th>1</th>\n",
       "      <td>ALTERSKATEGORIE_GROB</td>\n",
       "      <td>person</td>\n",
       "      <td>ordinal</td>\n",
       "      <td>[-1,0,9]</td>\n",
       "    </tr>\n",
       "    <tr>\n",
       "      <th>2</th>\n",
       "      <td>ANREDE_KZ</td>\n",
       "      <td>person</td>\n",
       "      <td>categorical</td>\n",
       "      <td>[-1,0]</td>\n",
       "    </tr>\n",
       "    <tr>\n",
       "      <th>3</th>\n",
       "      <td>CJT_GESAMTTYP</td>\n",
       "      <td>person</td>\n",
       "      <td>categorical</td>\n",
       "      <td>[0]</td>\n",
       "    </tr>\n",
       "    <tr>\n",
       "      <th>4</th>\n",
       "      <td>FINANZ_MINIMALIST</td>\n",
       "      <td>person</td>\n",
       "      <td>ordinal</td>\n",
       "      <td>[-1]</td>\n",
       "    </tr>\n",
       "  </tbody>\n",
       "</table>\n",
       "</div>"
      ],
      "text/plain": [
       "              attribute information_level         type missing_or_unknown\n",
       "0              AGER_TYP            person  categorical             [-1,0]\n",
       "1  ALTERSKATEGORIE_GROB            person      ordinal           [-1,0,9]\n",
       "2             ANREDE_KZ            person  categorical             [-1,0]\n",
       "3         CJT_GESAMTTYP            person  categorical                [0]\n",
       "4     FINANZ_MINIMALIST            person      ordinal               [-1]"
      ]
     },
     "execution_count": 5,
     "metadata": {},
     "output_type": "execute_result"
    }
   ],
   "source": [
    "# Check the structure of the data after it's loaded (e.g. print the number of\n",
    "# rows and columns, print the first few rows).\n",
    "print('Exploring Feature Summary File :-')\n",
    "print('Data Structure : {} rows, {} columns'.format(feat_info.shape[0], feat_info.shape[1]))\n",
    "print('First few rows ....')\n",
    "feat_info.head()"
   ]
  },
  {
   "cell_type": "markdown",
   "metadata": {},
   "source": [
    "> **Tip**: Add additional cells to keep everything in reasonably-sized chunks! Keyboard shortcut `esc --> a` (press escape to enter command mode, then press the 'A' key) adds a new cell before the active cell, and `esc --> b` adds a new cell after the active cell. If you need to convert an active cell to a markdown cell, use `esc --> m` and to convert to a code cell, use `esc --> y`. \n",
    "\n",
    "## Step 1: Preprocessing\n",
    "\n",
    "### Step 1.1: Assess Missing Data\n",
    "\n",
    "The feature summary file contains a summary of properties for each demographics data column. You will use this file to help you make cleaning decisions during this stage of the project. First of all, you should assess the demographics data in terms of missing data. Pay attention to the following points as you perform your analysis, and take notes on what you observe. Make sure that you fill in the **Discussion** cell with your findings and decisions at the end of each step that has one!\n",
    "\n",
    "#### Step 1.1.1: Convert Missing Value Codes to NaNs\n",
    "The fourth column of the feature attributes summary (loaded in above as `feat_info`) documents the codes from the data dictionary that indicate missing or unknown data. While the file encodes this as a list (e.g. `[-1,0]`), this will get read in as a string object. You'll need to do a little bit of parsing to make use of it to identify and clean the data. Convert data that matches a 'missing' or 'unknown' value code into a numpy NaN value. You might want to see how much data takes on a 'missing' or 'unknown' code, and how much data is naturally missing, as a point of interest.\n",
    "\n",
    "**As one more reminder, you are encouraged to add additional cells to break up your analysis into manageable chunks.**"
   ]
  },
  {
   "cell_type": "markdown",
   "metadata": {},
   "source": [
    "`feat_info['missing_or_unknown']` documents codes that indicate if demographic column data is missing or unknown\n",
    "`feat_info['missing_or_unknown']` column  is read in as a string object\n",
    "- parse `missing / unknown` codes to identify and clean the data\n",
    "- see how much data takes on a `missing / unknown` code \n",
    "- see how much data is naturally missing -- as a point of interest\n",
    "- convert data that matches `missing / unknown` codes into a numpy NaN value\n"
   ]
  },
  {
   "cell_type": "code",
   "execution_count": 6,
   "metadata": {},
   "outputs": [
    {
     "data": {
      "text/plain": [
       "'[-1,0,9]'"
      ]
     },
     "execution_count": 6,
     "metadata": {},
     "output_type": "execute_result"
    }
   ],
   "source": [
    "# we see that originally missing/unknown column is a string object \n",
    "feat_info_original['missing_or_unknown'][1]"
   ]
  },
  {
   "cell_type": "code",
   "execution_count": 7,
   "metadata": {},
   "outputs": [
    {
     "data": {
      "text/plain": [
       "['-1', '0', '9']"
      ]
     },
     "execution_count": 7,
     "metadata": {},
     "output_type": "execute_result"
    }
   ],
   "source": [
    "# First - we'll parse the missing/unknown values - http://bit.ly/2IvCs3F\n",
    "# by converting them into list of codes\n",
    "feat_info['missing_or_unknown'] = feat_info['missing_or_unknown'].apply(lambda x : x[1:-1].split(','))\n",
    "feat_info['missing_or_unknown'][1]"
   ]
  },
  {
   "cell_type": "code",
   "execution_count": 8,
   "metadata": {},
   "outputs": [
    {
     "name": "stdout",
     "output_type": "stream",
     "text": [
      "Get Sample of missing/unknown codes ....\n",
      "Shortest sequence :  ['0']  - at index:  3\n",
      "Longest sequence :  ['-1', '0', '9']  - at index:  1\n"
     ]
    }
   ],
   "source": [
    "# get longest and shortest sequence of missing or unknown codes - http://bit.ly/2ZCKbCM\n",
    "field_length = feat_info['missing_or_unknown'].map(len)\n",
    "col_min = field_length.idxmin()\n",
    "col_max = field_length.idxmax()\n",
    "\n",
    "print('Get Sample of missing/unknown codes ....')\n",
    "print('Shortest sequence : ', feat_info.loc[col_min, 'missing_or_unknown'],\n",
    "      ' - at index: ', col_min)\n",
    "print('Longest sequence : ', feat_info.loc[col_max, 'missing_or_unknown'],\n",
    "     ' - at index: ', col_max)"
   ]
  },
  {
   "cell_type": "code",
   "execution_count": 9,
   "metadata": {},
   "outputs": [
    {
     "data": {
      "text/plain": [
       "3    358533\n",
       "4    228510\n",
       "2    158410\n",
       "1    142887\n",
       "9      2881\n",
       "Name: ALTERSKATEGORIE_GROB, dtype: int64"
      ]
     },
     "execution_count": 9,
     "metadata": {},
     "output_type": "execute_result"
    }
   ],
   "source": [
    "# get value counts for column with longest sequence of missing/unknown values\n",
    "# we see it has 2881 missing/unknown records - ie ['-1', '0', '9']\n",
    "azdias.iloc[:, col_max].value_counts()"
   ]
  },
  {
   "cell_type": "code",
   "execution_count": 10,
   "metadata": {},
   "outputs": [
    {
     "name": "stdout",
     "output_type": "stream",
     "text": [
      "Confirm number of missing values before converting to NaNs..:2881\n",
      "Confirm number of missing values after converting to NaNs..:2881\n",
      "Proceeding to convert the entire dataframe\n"
     ]
    }
   ],
   "source": [
    "# confirm we get a similar count of missing/unknown values\n",
    "mask = azdias.iloc[:, col_max].isin(feat_info.loc[col_max, 'missing_or_unknown'])\n",
    "print(f'Confirm number of missing values before converting to NaNs..:{mask.sum()}')\n",
    "\n",
    "# azdias.loc[mask, 'ALTERSKATEGORIE_GROB']\n",
    "# convert missing/unknown data to NaNs\n",
    "azdias.loc[mask, feat_info.loc[col_max, 'attribute']] = np.nan\n",
    "print(f'Confirm number of missing values after converting to NaNs..:{azdias.iloc[:, col_max].isnull().sum() }')\n",
    "print(f'Proceeding to convert the entire dataframe')                                           "
   ]
  },
  {
   "cell_type": "code",
   "execution_count": 11,
   "metadata": {},
   "outputs": [],
   "source": [
    "# convert missing/unknown data to NaNs \n",
    "#TODO:use pandas dataframe apply\n",
    "for col in range(feat_info.shape[0]):\n",
    "    mask = azdias.iloc[:, col].isin(feat_info.loc[col, 'missing_or_unknown'])\n",
    "    azdias.loc[mask, feat_info.loc[col, 'attribute']] = np.nan    "
   ]
  },
  {
   "cell_type": "code",
   "execution_count": 12,
   "metadata": {},
   "outputs": [
    {
     "data": {
      "text/plain": [
       "AGER_TYP                685843\n",
       "ALTERSKATEGORIE_GROB      2881\n",
       "ANREDE_KZ                    0\n",
       "CJT_GESAMTTYP             4854\n",
       "FINANZ_MINIMALIST            0\n",
       "dtype: int64"
      ]
     },
     "execution_count": 12,
     "metadata": {},
     "output_type": "execute_result"
    }
   ],
   "source": [
    "# azdias.isnull().all(1).sum() # rows with only Nans - http://bit.ly/31XWWtC\n",
    "# we can now see that some columns have null/Nans value\n",
    "azdias.isnull().sum(axis=0).head()\n"
   ]
  },
  {
   "cell_type": "markdown",
   "metadata": {},
   "source": [
    "#### Step 1.1.2: Assess Missing Data in Each Column\n",
    "\n",
    "How much missing data is present in each column? There are a few columns that are outliers in terms of the proportion of values that are missing. You will want to use matplotlib's [`hist()`](https://matplotlib.org/api/_as_gen/matplotlib.pyplot.hist.html) function to visualize the distribution of missing value counts to find these columns. Identify and document these columns. While some of these columns might have justifications for keeping or re-encoding the data, for this project you should just remove them from the dataframe. (Feel free to make remarks about these outlier columns in the discussion, however!)\n",
    "\n",
    "For the remaining features, are there any patterns in which columns have, or share, missing data?"
   ]
  },
  {
   "cell_type": "markdown",
   "metadata": {},
   "source": [
    "##### Notes : how much data is present in each column\n",
    "- column outliers in terms of proportion of missing values\n",
    "- use matplotlib 'hist' to visualize the distribution of missing value counts to find these columns\n",
    "- identify and document the columns - with justifications for keeping/re-encoding the data (for now we remove/drop them)"
   ]
  },
  {
   "cell_type": "code",
   "execution_count": 13,
   "metadata": {},
   "outputs": [
    {
     "data": {
      "text/plain": [
       "TITEL_KZ          0.997576\n",
       "AGER_TYP          0.769554\n",
       "KK_KUNDENTYP      0.655967\n",
       "KBA05_BAUMAX      0.534687\n",
       "GEBURTSJAHR       0.440203\n",
       "ALTER_HH          0.348137\n",
       "REGIOTYP          0.177357\n",
       "KKK               0.177357\n",
       "W_KEIT_KIND_HH    0.166051\n",
       "KBA05_ANTG4       0.149597\n",
       "dtype: float64"
      ]
     },
     "execution_count": 13,
     "metadata": {},
     "output_type": "execute_result"
    }
   ],
   "source": [
    "# Perform an assessment of how much missing data there is in each column of the\n",
    "# dataset.\n",
    "\n",
    "# get proportion of NaNs on each column \n",
    "perc_nans = azdias.isnull().mean().sort_values(ascending=False)\n",
    "perc_nans[:10]"
   ]
  },
  {
   "cell_type": "code",
   "execution_count": 14,
   "metadata": {},
   "outputs": [
    {
     "data": {
      "text/plain": [
       "24"
      ]
     },
     "execution_count": 14,
     "metadata": {},
     "output_type": "execute_result"
    }
   ],
   "source": [
    "# how many columns dont have any missing data - out of the 65 columns\n",
    "(perc_nans == 0).sum()"
   ]
  },
  {
   "cell_type": "code",
   "execution_count": 15,
   "metadata": {},
   "outputs": [],
   "source": [
    "# since were interested in dropping outlier columns (ie with high percentage of NaNs)\n",
    "# we can remove the 24 columns from our plot\n",
    "high_perc_nans = perc_nans[perc_nans != 0]"
   ]
  },
  {
   "cell_type": "code",
   "execution_count": 16,
   "metadata": {},
   "outputs": [
    {
     "data": {
      "image/png": "[encoded data removed]",
      "text/plain": [
       "<matplotlib.figure.Figure at 0x7f6f81c0cba8>"
      ]
     },
     "metadata": {
      "needs_background": "light"
     },
     "output_type": "display_data"
    }
   ],
   "source": [
    "# Investigate patterns in the amount of missing data in each column.\n",
    "\n",
    "# lets compare the columns and find out outlier columns (in terms of missing data)\n",
    "# outlier columns - will have the highest percentage of NaNs\n",
    "\n",
    "# we are using a barplot as we are investigating categorical data\n",
    "# plt.bar(high_perc_nans.index, highest_perc_nans) #TODO find out how to use matplotlib plt to create similar\n",
    "high_perc_nans.plot(kind='bar', figsize=(20, 8));"
   ]
  },
  {
   "cell_type": "code",
   "execution_count": 17,
   "metadata": {},
   "outputs": [
    {
     "data": {
      "text/plain": [
       "TITEL_KZ        0.997576\n",
       "AGER_TYP        0.769554\n",
       "KK_KUNDENTYP    0.655967\n",
       "KBA05_BAUMAX    0.534687\n",
       "GEBURTSJAHR     0.440203\n",
       "ALTER_HH        0.348137\n",
       "dtype: float64"
      ]
     },
     "execution_count": 17,
     "metadata": {},
     "output_type": "execute_result"
    }
   ],
   "source": [
    "# From out plot we can see that roughly a minority of the column - has more than 20% of the data missing\n",
    "# below is the list of columns with more than 20% missing data\n",
    "highest_perc_nans = high_perc_nans[high_perc_nans > 0.2]\n",
    "highest_perc_nans"
   ]
  },
  {
   "cell_type": "code",
   "execution_count": 18,
   "metadata": {},
   "outputs": [
    {
     "data": {
      "text/plain": [
       "Index(['TITEL_KZ', 'AGER_TYP', 'KK_KUNDENTYP', 'KBA05_BAUMAX', 'GEBURTSJAHR',\n",
       "       'ALTER_HH'],\n",
       "      dtype='object')"
      ]
     },
     "execution_count": 18,
     "metadata": {},
     "output_type": "execute_result"
    }
   ],
   "source": [
    "highest_perc_nans.index # 6 Columns to drop - have over 30% of their data missing"
   ]
  },
  {
   "cell_type": "code",
   "execution_count": 19,
   "metadata": {},
   "outputs": [],
   "source": [
    "# Remove the outlier columns from the dataset. (You'll perform other data\n",
    "# engineering tasks such as re-encoding and imputation later.)\n",
    "azdias.drop(highest_perc_nans.index, axis=1, inplace=True) # http://bit.ly/2J7xFpn"
   ]
  },
  {
   "cell_type": "code",
   "execution_count": 20,
   "metadata": {},
   "outputs": [
    {
     "data": {
      "text/plain": [
       "False"
      ]
     },
     "execution_count": 20,
     "metadata": {},
     "output_type": "execute_result"
    }
   ],
   "source": [
    "any(azdias.columns.isin(highest_perc_nans.index)) # verify the 6 columns have been dropped"
   ]
  },
  {
   "cell_type": "code",
   "execution_count": 21,
   "metadata": {},
   "outputs": [
    {
     "data": {
      "text/plain": [
       "False"
      ]
     },
     "execution_count": 21,
     "metadata": {},
     "output_type": "execute_result"
    }
   ],
   "source": [
    "# create copy of modified data - ie data with 20% of its column data reported missing\n",
    "azdias_dropna_cols = azdias.copy()\n",
    "any(azdias_dropna_cols.columns.isin(highest_perc_nans.index))  # verify the 6 columns have been dropped"
   ]
  },
  {
   "cell_type": "markdown",
   "metadata": {},
   "source": [
    "#### Discussion 1.1.2: Assess Missing Data in Each Column\n",
    "\n",
    "Out of 85 columns - 24 columns did not have missing data.A majority of the other 61 columns have around 20% of its data missing - with exception of 6 columns - namely `'TITEL_KZ', 'AGER_TYP', 'KK_KUNDENTYP', 'KBA05_BAUMAX', 'GEBURTSJAHR' and 'ALTER_HH'` that have over 30% of its data missing. These 6 columns were dropped/ removed form the `azdias` dataset"
   ]
  },
  {
   "cell_type": "markdown",
   "metadata": {},
   "source": [
    "#### Step 1.1.3: Assess Missing Data in Each Row\n",
    "\n",
    "Now, you'll perform a similar assessment for the rows of the dataset. How much data is missing in each row? As with the columns, you should see some groups of points that have a very different numbers of missing values. Divide the data into two subsets: one for data points that are above some threshold for missing values, and a second subset for points below that threshold.\n",
    "\n",
    "In order to know what to do with the outlier rows, we should see if the distribution of data values on columns that are not missing data (or are missing very little data) are similar or different between the two groups. Select at least five of these columns and compare the distribution of values.\n",
    "- You can use seaborn's [`countplot()`](https://seaborn.pydata.org/generated/seaborn.countplot.html) function to create a bar chart of code frequencies and matplotlib's [`subplot()`](https://matplotlib.org/api/_as_gen/matplotlib.pyplot.subplot.html) function to put bar charts for the two subplots side by side.\n",
    "- To reduce repeated code, you might want to write a function that can perform this comparison, taking as one of its arguments a column to be compared.\n",
    "\n",
    "Depending on what you observe in your comparison, this will have implications on how you approach your conclusions later in the analysis. If the distributions of non-missing features look similar between the data with many missing values and the data with few or no missing values, then we could argue that simply dropping those points from the analysis won't present a major issue. On the other hand, if the data with many missing values looks very different from the data with few or no missing values, then we should make a note on those data as special. We'll revisit these data later on. **Either way, you should continue your analysis for now using just the subset of the data with few or no missing values.**"
   ]
  },
  {
   "cell_type": "code",
   "execution_count": 22,
   "metadata": {},
   "outputs": [],
   "source": [
    "# How much data is missing in each row of the dataset?\n",
    "azdias_dropna_cols['row_nans_perc'] = np.round(azdias_dropna_cols.isnull().mean(axis=1), 1)"
   ]
  },
  {
   "cell_type": "code",
   "execution_count": 23,
   "metadata": {},
   "outputs": [
    {
     "data": {
      "text/plain": [
       "0.0    0.768050\n",
       "0.1    0.108590\n",
       "0.2    0.017725\n",
       "0.3    0.001085\n",
       "0.4    0.020134\n",
       "0.5    0.032543\n",
       "0.6    0.051873\n",
       "Name: row_nans_perc, dtype: float64"
      ]
     },
     "execution_count": 23,
     "metadata": {},
     "output_type": "execute_result"
    }
   ],
   "source": [
    "# Below we see that a majority of the data ie 87% has atmost than 10% of its row data marked as missing or Nans\n",
    "# we'll use 10% as threshold to separate our data in to 2 subsets (ie one at most 10% missing row data \n",
    "# and the other with more than 10% missing data)\n",
    "azdias_dropna_cols['row_nans_perc'].value_counts(normalize=True).sort_index() #http://bit.ly/2J6Yqdu"
   ]
  },
  {
   "cell_type": "code",
   "execution_count": 24,
   "metadata": {},
   "outputs": [],
   "source": [
    "# Write code to divide the data into two subsets based on the number of missing\n",
    "# values in each row.\n",
    "#TODO - separate the azdias data into the 2 subsets\n",
    "azdias_min_nans = azdias_dropna_cols[azdias_dropna_cols['row_nans_perc'] <= 0.1] # azdias data within our threshold\n",
    "azdias_max_nans = azdias_dropna_cols[azdias_dropna_cols['row_nans_perc'] > 0.1]\n"
   ]
  },
  {
   "cell_type": "code",
   "execution_count": 25,
   "metadata": {},
   "outputs": [],
   "source": [
    "# TODO: convert this into a function - with column name argument\n",
    "def sub_count_plots(col_name):\n",
    "    '''View distributions of azdias features for data with many missing values \n",
    "    and for the data with few or no missing values'''\n",
    "    sns.set(style=\"darkgrid\")\n",
    "    #plot the seaborn countplots side by side for the 2 data subsets\n",
    "    # seaborn countplot() - http://bit.ly/2J5i61p \n",
    "    # subplot sns countplot() - http://bit.ly/2J5jWPR\n",
    "    print(f'Comparing Distribution of column : {col_name}')\n",
    "    fig, ax =plt.subplots(nrows=1, ncols=2, figsize=(12,5))\n",
    "    sns.countplot(x=col_name, data=azdias_max_nans, ax=ax[1]).set_title('Data with many missing values')\n",
    "    sns.countplot(x=col_name, data=azdias_min_nans, ax=ax[0]).set_title('Data with few or no missing value')\n",
    "    # fig.show() # http://bit.ly/2XlAmYi"
   ]
  },
  {
   "cell_type": "code",
   "execution_count": 26,
   "metadata": {},
   "outputs": [],
   "source": [
    "# Compare the distribution of values for at least five columns where there are\n",
    "# no or few missing values, between the two subsets.\n",
    "\n",
    "# In order to know what to do with the outlier rows, we should see \n",
    "# if the distribution of data values on columns that are not missing data \n",
    "# (or are missing very little data) are similar or different between the two groups.\n",
    "\n",
    "# Let's now see distribution of the data on some columns (on both data subsets) - \n",
    "# so as to know how different or similar they are on the 2 groups \n",
    "# and the implications of using dataset with lesser missing data has on our analysis\n",
    "# PS if they are similar -dropping these nan points wont have a major issue\n",
    "#    if they are different - we should note the data as special and will need revisiting later on\n",
    "\n",
    "#TODO shorten this"
   ]
  },
  {
   "cell_type": "code",
   "execution_count": 27,
   "metadata": {},
   "outputs": [
    {
     "name": "stdout",
     "output_type": "stream",
     "text": [
      "Comparing Distribution of column : ALTERSKATEGORIE_GROB\n"
     ]
    },
    {
     "data": {
      "image/png": "[encoded data removed]",
      "text/plain": [
       "<matplotlib.figure.Figure at 0x7f6fbc4d24e0>"
      ]
     },
     "metadata": {},
     "output_type": "display_data"
    }
   ],
   "source": [
    "# Select at least five of these columns and compare the distribution of values.\n",
    "col_name = 'ALTERSKATEGORIE_GROB'\n",
    "sub_count_plots(col_name=col_name) "
   ]
  },
  {
   "cell_type": "code",
   "execution_count": 28,
   "metadata": {},
   "outputs": [
    {
     "name": "stdout",
     "output_type": "stream",
     "text": [
      "Comparing Distribution of column : GREEN_AVANTGARDE\n"
     ]
    },
    {
     "data": {
      "image/png": "[encoded data removed]",
      "text/plain": [
       "<matplotlib.figure.Figure at 0x7f6f5d1635c0>"
      ]
     },
     "metadata": {},
     "output_type": "display_data"
    }
   ],
   "source": [
    "col_name = 'GREEN_AVANTGARDE'\n",
    "sub_count_plots(col_name=col_name)"
   ]
  },
  {
   "cell_type": "code",
   "execution_count": 29,
   "metadata": {},
   "outputs": [
    {
     "name": "stdout",
     "output_type": "stream",
     "text": [
      "Comparing Distribution of column : ONLINE_AFFINITAET\n"
     ]
    },
    {
     "data": {
      "image/png": "[encoded data removed]",
      "text/plain": [
       "<matplotlib.figure.Figure at 0x7f6f4da44128>"
      ]
     },
     "metadata": {},
     "output_type": "display_data"
    }
   ],
   "source": [
    "col_name = 'ONLINE_AFFINITAET'\n",
    "sub_count_plots(col_name=col_name)"
   ]
  },
  {
   "cell_type": "code",
   "execution_count": 30,
   "metadata": {},
   "outputs": [
    {
     "name": "stdout",
     "output_type": "stream",
     "text": [
      "Comparing Distribution of column : ZABEOTYP\n"
     ]
    },
    {
     "data": {
      "image/png": "[encoded data removed]",
      "text/plain": [
       "<matplotlib.figure.Figure at 0x7f6f4d932898>"
      ]
     },
     "metadata": {},
     "output_type": "display_data"
    }
   ],
   "source": [
    "col_name = 'ZABEOTYP'\n",
    "sub_count_plots(col_name=col_name)"
   ]
  },
  {
   "cell_type": "code",
   "execution_count": 31,
   "metadata": {},
   "outputs": [
    {
     "name": "stdout",
     "output_type": "stream",
     "text": [
      "Comparing Distribution of column : SEMIO_RAT\n"
     ]
    },
    {
     "data": {
      "image/png": "[encoded data removed]",
      "text/plain": [
       "<matplotlib.figure.Figure at 0x7f6f4d911710>"
      ]
     },
     "metadata": {},
     "output_type": "display_data"
    }
   ],
   "source": [
    "col_name = 'SEMIO_RAT'\n",
    "sub_count_plots(col_name=col_name)"
   ]
  },
  {
   "cell_type": "code",
   "execution_count": 32,
   "metadata": {},
   "outputs": [],
   "source": [
    "# create copy of modified data - with 10% or less nan observations value\n",
    "azdias_dropna = azdias_min_nans.copy()"
   ]
  },
  {
   "cell_type": "markdown",
   "metadata": {},
   "source": [
    "#### Discussion 1.1.3: Assess Missing Data in Each Row\n",
    "\n",
    "13% of the observations had over 10% missing values - so we used 10% as threshold on separating the `azdias` dataset into a group with lots of missing values and another with atmost 10% of its observations missing.\n",
    "\n",
    "We then proceed to compare the distributions of 5 columns, namely `'SEMIO_RAT', 'ZABEOTYP', 'ONLINE_AFFINITAET', 'GREEN_AVANTGARDE' and 'ALTERSKATEGORIE_GROB'` and saw that their distributions are dissimilar - implying proceeding with analysis without the missing data will most likely affect our analysis conclusion, that is the missing data is special and will need to be reviewed later on ."
   ]
  },
  {
   "cell_type": "markdown",
   "metadata": {},
   "source": [
    "### Step 1.2: Select and Re-Encode Features\n",
    "\n",
    "Checking for missing data isn't the only way in which you can prepare a dataset for analysis. Since the unsupervised learning techniques to be used will only work on data that is encoded numerically, you need to make a few encoding changes or additional assumptions to be able to make progress. In addition, while almost all of the values in the dataset are encoded using numbers, not all of them represent numeric values. Check the third column of the feature summary (`feat_info`) for a summary of types of measurement.\n",
    "- For numeric and interval data, these features can be kept without changes.\n",
    "- Most of the variables in the dataset are ordinal in nature. While ordinal values may technically be non-linear in spacing, make the simplifying assumption that the ordinal variables can be treated as being interval in nature (that is, kept without any changes).\n",
    "- Special handling may be necessary for the remaining two variable types: categorical, and 'mixed'.\n",
    "\n",
    "In the first two parts of this sub-step, you will perform an investigation of the categorical and mixed-type features and make a decision on each of them, whether you will keep, drop, or re-encode each. Then, in the last part, you will create a new data frame with only the selected and engineered columns.\n",
    "\n",
    "Data wrangling is often the trickiest part of the data analysis process, and there's a lot of it to be done here. But stick with it: once you're done with this step, you'll be ready to get to the machine learning parts of the project!"
   ]
  },
  {
   "cell_type": "code",
   "execution_count": 33,
   "metadata": {},
   "outputs": [
    {
     "data": {
      "text/plain": [
       "ordinal        49\n",
       "categorical    21\n",
       "mixed           7\n",
       "numeric         7\n",
       "interval        1\n",
       "Name: type, dtype: int64"
      ]
     },
     "execution_count": 33,
     "metadata": {},
     "output_type": "execute_result"
    }
   ],
   "source": [
    "# How many features are there of each data type?\n",
    "\n",
    "# let's see the value_counts() on the third column, type, on feat_info\n",
    "feat_info['type'].value_counts()"
   ]
  },
  {
   "cell_type": "markdown",
   "metadata": {},
   "source": [
    "#### Step 1.2.1: Re-Encode Categorical Features\n",
    "\n",
    "For categorical data, you would ordinarily need to encode the levels as dummy variables. Depending on the number of categories, perform one of the following:\n",
    "- For binary (two-level) categoricals that take numeric values, you can keep them without needing to do anything.\n",
    "- There is one binary variable that takes on non-numeric values. For this one, you need to re-encode the values as numbers or create a dummy variable.\n",
    "- For multi-level categoricals (three or more values), you can choose to encode the values using multiple dummy variables (e.g. via [OneHotEncoder](http://scikit-learn.org/stable/modules/generated/sklearn.preprocessing.OneHotEncoder.html)), or (to keep things straightforward) just drop them from the analysis. As always, document your choices in the Discussion section."
   ]
  },
  {
   "cell_type": "code",
   "execution_count": 34,
   "metadata": {},
   "outputs": [
    {
     "data": {
      "text/plain": [
       "Index(['TITEL_KZ', 'AGER_TYP', 'KK_KUNDENTYP', 'KBA05_BAUMAX', 'GEBURTSJAHR',\n",
       "       'ALTER_HH'],\n",
       "      dtype='object')"
      ]
     },
     "execution_count": 34,
     "metadata": {},
     "output_type": "execute_result"
    }
   ],
   "source": [
    "# list of columns previously dropped\n",
    "dropped_cols = highest_perc_nans.index\n",
    "dropped_cols"
   ]
  },
  {
   "cell_type": "code",
   "execution_count": 35,
   "metadata": {},
   "outputs": [
    {
     "data": {
      "text/plain": [
       "2            ANREDE_KZ\n",
       "3        CJT_GESAMTTYP\n",
       "10           FINANZTYP\n",
       "12     GFK_URLAUBERTYP\n",
       "13    GREEN_AVANTGARDE\n",
       "Name: attribute, dtype: object"
      ]
     },
     "execution_count": 35,
     "metadata": {},
     "output_type": "execute_result"
    }
   ],
   "source": [
    "# get all categorical features (not including the dropped columns)\n",
    "# pandas series logical 'and' - http://bit.ly/2XgH6Xb\n",
    "# pandas series logical 'not' - http://bit.ly/2XlmuNu\n",
    "mask = (feat_info['type'] == 'categorical') & ~(feat_info['attribute'].isin(dropped_cols))\n",
    "cat_features = feat_info.loc[mask, 'attribute'] # features lise with categorical data\n",
    "cat_features.head()"
   ]
  },
  {
   "cell_type": "code",
   "execution_count": 36,
   "metadata": {},
   "outputs": [],
   "source": [
    "# Assess categorical variables: which are binary, which are multi-level, and\n",
    "# which one needs to be re-encoded?\n",
    "binary_numeric, binary_non_numeric = [],[]\n",
    "multi_level = []\n",
    "\n",
    "for i in range(cat_features.shape[0]):\n",
    "    cat_feature = cat_features.iloc[i]\n",
    "    unique_cat_values = azdias_dropna.loc[:, cat_feature].unique()\n",
    "    unique_count = unique_cat_values.size\n",
    "    if (unique_count == 2) and azdias_dropna.loc[:, cat_feature].dtype == np.object:\n",
    "        binary_non_numeric.append(cat_feature)\n",
    "    elif unique_count == 2:\n",
    "        binary_numeric.append(cat_feature)\n",
    "    else:\n",
    "        multi_level.append(cat_feature)\n",
    "    "
   ]
  },
  {
   "cell_type": "code",
   "execution_count": 37,
   "metadata": {},
   "outputs": [],
   "source": [
    "def describe_category(cat_features):\n",
    "    '''Describe the azidias list of features'''\n",
    "    for i in range(len(cat_features)):\n",
    "        cat_feature = cat_features[i]\n",
    "        unique_cat_values = azdias_dropna.loc[:, cat_feature].unique()\n",
    "        unique_count = unique_cat_values.size\n",
    "        print('Feature : {} - {}'.format(i+1, cat_feature))\n",
    "        print('Unique value count : {}'.format(unique_count))\n",
    "        print('Unique values : {}'.format(unique_cat_values))\n",
    "        print('_'*50)"
   ]
  },
  {
   "cell_type": "code",
   "execution_count": 38,
   "metadata": {},
   "outputs": [],
   "source": [
    "# we are now going to describe the categorical featues and state the actions we will perform on them\n",
    "type_action = 'Categorical Variable Type: {}\\nAction : {}\\nNumber of Features: {}\\n{}'"
   ]
  },
  {
   "cell_type": "code",
   "execution_count": 39,
   "metadata": {},
   "outputs": [
    {
     "name": "stdout",
     "output_type": "stream",
     "text": [
      "Categorical Variable Type: Binary, Numeric\n",
      "Action : keep features, without modification\n",
      "Number of Features: 3\n",
      "****************************************************************************************************\n",
      "Feature : 1 - ANREDE_KZ\n",
      "Unique value count : 2\n",
      "Unique values : [ 2.  1.]\n",
      "__________________________________________________\n",
      "Feature : 2 - GREEN_AVANTGARDE\n",
      "Unique value count : 2\n",
      "Unique values : [ 0.  1.]\n",
      "__________________________________________________\n",
      "Feature : 3 - SOHO_KZ\n",
      "Unique value count : 2\n",
      "Unique values : [ 1.  0.]\n",
      "__________________________________________________\n"
     ]
    }
   ],
   "source": [
    "print(type_action.format('Binary, Numeric', 'keep features, without modification', len(binary_numeric),'*'*100))\n",
    "describe_category(binary_numeric)\n",
    "#azdias['VERS_TYP'].replace([2.0, 1.0], [1, 0], inplace=True)"
   ]
  },
  {
   "cell_type": "code",
   "execution_count": 40,
   "metadata": {},
   "outputs": [
    {
     "name": "stdout",
     "output_type": "stream",
     "text": [
      "Categorical Variable Type: Binary, Non-Numeric\n",
      "Action : re-encode them as numeric variables\n",
      "Number of Features: 1\n",
      "****************************************************************************************************\n",
      "Feature : 1 - OST_WEST_KZ\n",
      "Unique value count : 2\n",
      "Unique values : ['W' 'O']\n",
      "__________________________________________________\n"
     ]
    }
   ],
   "source": [
    "print(type_action.format('Binary, Non-Numeric', 're-encode them as numeric variables', len(binary_non_numeric), '*'*100))\n",
    "describe_category(binary_non_numeric)"
   ]
  },
  {
   "cell_type": "code",
   "execution_count": 41,
   "metadata": {},
   "outputs": [
    {
     "name": "stdout",
     "output_type": "stream",
     "text": [
      "Categorical Variable Type: Multi-level\n",
      "Action : keep and create dummy variables OR Drop\n",
      "Number of Features: 14\n",
      "****************************************************************************************************\n",
      "Feature : 1 - CJT_GESAMTTYP\n",
      "Unique value count : 7\n",
      "Unique values : [  5.   3.   2.   4.   1.   6.  nan]\n",
      "__________________________________________________\n",
      "Feature : 2 - FINANZTYP\n",
      "Unique value count : 6\n",
      "Unique values : [ 1.  6.  5.  2.  4.  3.]\n",
      "__________________________________________________\n",
      "Feature : 3 - GFK_URLAUBERTYP\n",
      "Unique value count : 13\n",
      "Unique values : [ 10.   1.   5.  12.   9.   3.   8.  11.   4.   7.   2.   6.  nan]\n",
      "__________________________________________________\n",
      "Feature : 4 - LP_FAMILIE_FEIN\n",
      "Unique value count : 12\n",
      "Unique values : [  5.   1.  nan  10.   2.   7.  11.   8.   4.   6.   9.   3.]\n",
      "__________________________________________________\n",
      "Feature : 5 - LP_FAMILIE_GROB\n",
      "Unique value count : 6\n",
      "Unique values : [  3.   1.  nan   5.   2.   4.]\n",
      "__________________________________________________\n",
      "Feature : 6 - LP_STATUS_FEIN\n",
      "Unique value count : 11\n",
      "Unique values : [  2.   3.   9.   4.   1.  10.   5.   8.   6.   7.  nan]\n",
      "__________________________________________________\n",
      "Feature : 7 - LP_STATUS_GROB\n",
      "Unique value count : 6\n",
      "Unique values : [  1.   2.   4.   5.   3.  nan]\n",
      "__________________________________________________\n",
      "Feature : 8 - NATIONALITAET_KZ\n",
      "Unique value count : 4\n",
      "Unique values : [  1.   3.   2.  nan]\n",
      "__________________________________________________\n",
      "Feature : 9 - SHOPPER_TYP\n",
      "Unique value count : 5\n",
      "Unique values : [  3.   2.   1.   0.  nan]\n",
      "__________________________________________________\n",
      "Feature : 10 - VERS_TYP\n",
      "Unique value count : 3\n",
      "Unique values : [  2.   1.  nan]\n",
      "__________________________________________________\n",
      "Feature : 11 - ZABEOTYP\n",
      "Unique value count : 6\n",
      "Unique values : [ 5.  3.  4.  1.  6.  2.]\n",
      "__________________________________________________\n",
      "Feature : 12 - GEBAEUDETYP\n",
      "Unique value count : 7\n",
      "Unique values : [ 8.  1.  3.  2.  6.  4.  5.]\n",
      "__________________________________________________\n",
      "Feature : 13 - CAMEO_DEUG_2015\n",
      "Unique value count : 10\n",
      "Unique values : ['8' '4' '2' '6' '1' '9' '5' '7' '3' nan]\n",
      "__________________________________________________\n",
      "Feature : 14 - CAMEO_DEU_2015\n",
      "Unique value count : 45\n",
      "Unique values : ['8A' '4C' '2A' '6B' '8C' '4A' '2D' '1A' '1E' '9D' '5C' '8B' '7A' '5D' '9E'\n",
      " '9B' '1B' '3D' nan '4E' '4B' '3C' '5A' '7B' '9A' '6D' '6E' '2C' '7C' '9C'\n",
      " '7D' '5E' '1D' '8D' '6C' '6A' '5B' '4D' '3A' '2B' '7E' '3B' '6F' '5F' '1C']\n",
      "__________________________________________________\n"
     ]
    }
   ],
   "source": [
    "print(type_action.format('Multi-level', 'keep and create dummy variables OR Drop', len(multi_level), '*'*100))\n",
    "describe_category(multi_level)"
   ]
  },
  {
   "cell_type": "code",
   "execution_count": 42,
   "metadata": {},
   "outputs": [],
   "source": [
    "# we are going to be dropping CAMEO_DEU_2015, LP_FAMILIE_FEIN and LP_STATUS_FEIN\n",
    "# as their information has been captured at a rougher scale by CAMEO_DEUG_2015 and LP_STATUS_GROB\n",
    "multi_level_drop = ['CAMEO_DEU_2015', 'LP_FAMILIE_FEIN', 'LP_STATUS_FEIN']\n",
    "multi_level_keep = [x for x in multi_level if x not in multi_level_drop] #http://bit.ly/2XtgabZ"
   ]
  },
  {
   "cell_type": "code",
   "execution_count": 43,
   "metadata": {},
   "outputs": [],
   "source": [
    "# Re-encode categorical variable(s) to be kept in the analysis :\n",
    "\n",
    "# Re-encode binary non-numeric categorical variables ie OST_WEST_KZ as numeric variable\n",
    "azdias_dropna.loc[:, 'OST_WEST_KZ'].replace({'W':0, 'O':1}, inplace=True)\n",
    "\n",
    "# Re-encode multi-level categorical variables to keep with dummy variables\n",
    "azdias_dropna = pd.get_dummies(azdias_dropna, columns=multi_level_keep) #TODO see if we can do this inplace\n",
    "\n",
    "# Drop the multi-level categorical variable CAMEO_DEU_2015, LP_FAMILIE_FEIN and LP_STATUS_FEIN\n",
    "azdias_dropna.drop(columns=multi_level_drop, axis=0, inplace=True)"
   ]
  },
  {
   "cell_type": "code",
   "execution_count": 44,
   "metadata": {},
   "outputs": [],
   "source": [
    "# create copy of modified data - with re-encoded and dropped categorical variables\n",
    "azdias_cat = azdias_dropna.copy()"
   ]
  },
  {
   "cell_type": "markdown",
   "metadata": {},
   "source": [
    "#### Discussion 1.2.1: Re-Encode Categorical Features\n",
    "\n",
    "Binary non-numerical feature `OST_WEST_KZ` was converted to numeric values\n",
    "\n",
    "Binary numeric categorical varibles `ANREDE_KZ`, `GREEN_AVANTGARDE`, `SOHO_KZ` were not modified\n",
    "\n",
    "Multi-level categorical feature `CJT_GESAMTTYP,  FINANZTYP, GFK_URLAUBERTYP, NATIONALITAET_KZ, SHOPPER_TYP, VERS_TYP\n",
    "ZABEOTYP and GEBAEUDETYP` were encoded with dummy variables\n",
    "\n",
    "Though, we considered the number of dummy variables created at this point and on studying the Azdias data dictionary we \n",
    "found out that :\n",
    "\n",
    "For `LP_FAMILIE_FEIN and LP_FAMILIE_GROB` - describe the family type (`LP_FAMILIE_FEIN`\n",
    "with fine scalea and `LP_FAMILIE_GROB` a rougher scale) , hence we decided to drop `LP_FAMILIE_FEIN`\n",
    "and re-encode `LP_FAMILIE_GROB` with dummy variables\n",
    "\n",
    "For `CAMEO_DEUG_2015 and CAMEO_DEU_2015` - both describe German CAMEO - wealth or life \n",
    "stage typology (`CAMEO_DEU_2015` with rough scale and `CAMEO_DEU_2015` a more detailed scale) ,\n",
    "hence we decided to drop `CAMEO_DEU_2015` and re-encode `CAMEO_DEU_2015` with dummy variables\n",
    "\n",
    "For `LP_STATUS_FEIN and LP_STATUS_GROB` - both describe social status\n",
    "(`LP_STATUS_GROB` with rough scale and `LP_STATUS_FEIN` a fine scale) ,\n",
    "hence we decided to drop `LP_STATUS_FEIN` and re-encode `LP_STATUS_GROB` with dummy variables\n"
   ]
  },
  {
   "cell_type": "markdown",
   "metadata": {},
   "source": [
    "#### Step 1.2.2: Engineer Mixed-Type Features\n",
    "\n",
    "There are a handful of features that are marked as \"mixed\" in the feature summary that require special treatment in order to be included in the analysis. There are two in particular that deserve attention; the handling of the rest are up to your own choices:\n",
    "- \"PRAEGENDE_JUGENDJAHRE\" combines information on three dimensions: generation by decade, movement (mainstream vs. avantgarde), and nation (east vs. west). While there aren't enough levels to disentangle east from west, you should create two new variables to capture the other two dimensions: an interval-type variable for decade, and a binary variable for movement.\n",
    "- \"CAMEO_INTL_2015\" combines information on two axes: wealth and life stage. Break up the two-digit codes by their 'tens'-place and 'ones'-place digits into two new ordinal variables (which, for the purposes of this project, is equivalent to just treating them as their raw numeric values).\n",
    "- If you decide to keep or engineer new features around the other mixed-type features, make sure you note your steps in the Discussion section.\n",
    "\n",
    "Be sure to check `Data_Dictionary.md` for the details needed to finish these tasks."
   ]
  },
  {
   "cell_type": "code",
   "execution_count": 45,
   "metadata": {},
   "outputs": [
    {
     "data": {
      "text/plain": [
       "15      LP_LEBENSPHASE_FEIN\n",
       "16      LP_LEBENSPHASE_GROB\n",
       "22    PRAEGENDE_JUGENDJAHRE\n",
       "56                 WOHNLAGE\n",
       "59          CAMEO_INTL_2015\n",
       "79              PLZ8_BAUMAX\n",
       "Name: attribute, dtype: object"
      ]
     },
     "execution_count": 45,
     "metadata": {},
     "output_type": "execute_result"
    }
   ],
   "source": [
    "# get all mixed features (not including the dropped columns)\n",
    "mask = (feat_info['type'] == 'mixed') & ~(feat_info['attribute'].isin(dropped_cols))\n",
    "mixed_features = feat_info.loc[mask, 'attribute'] # features lise with categorical data\n",
    "mixed_features"
   ]
  },
  {
   "cell_type": "code",
   "execution_count": 46,
   "metadata": {},
   "outputs": [
    {
     "data": {
      "text/plain": [
       "1    14.0\n",
       "2    15.0\n",
       "3     8.0\n",
       "4     8.0\n",
       "5     3.0\n",
       "Name: PRAEGENDE_JUGENDJAHRE, dtype: float64"
      ]
     },
     "execution_count": 46,
     "metadata": {},
     "output_type": "execute_result"
    }
   ],
   "source": [
    "# Investigate PRAEGENDE_JUGENDJAHRE\n",
    "# we will separate into 2 columns based on \n",
    "# generation data \n",
    "# (1, 2) => 40s, (3, 4) => 50s, (5, 6, 7) => 60s, (8, 9) => 70s, (10, 11, 12, 13) => 80s, (14, 15) => 90s\n",
    "# movement data\n",
    "# (1, 3, 5, 8, 10, 12, 14) => Mainstream\n",
    "# (2, 4, 6, 7, 9, 11, 13, 15) => Avantgarde\n",
    "# ( -1, 0) => unknown \n",
    "azdias_cat.loc[:, 'PRAEGENDE_JUGENDJAHRE'].head()"
   ]
  },
  {
   "cell_type": "code",
   "execution_count": 47,
   "metadata": {},
   "outputs": [],
   "source": [
    "# map of the generation data\n",
    "gen_dict = {0: [1, 2], \n",
    "            1: [3, 4],\n",
    "            2: [5, 6, 7],\n",
    "            3: [8, 9],\n",
    "            4: [10, 11, 12, 13], \n",
    "            5:[14, 15]}\n",
    "\n",
    "def map_gen(x):\n",
    "    '''Convert 'PRAEGENDE_JUGENDJAHRE' column into \n",
    "    interval-type column for generation decade'''\n",
    "    try:\n",
    "        for key, array in gen_dict.items():\n",
    "            if x in array:\n",
    "                return key\n",
    "    except ValueError:\n",
    "        return np.nan"
   ]
  },
  {
   "cell_type": "code",
   "execution_count": 48,
   "metadata": {},
   "outputs": [],
   "source": [
    "# map of movement data\n",
    "mainstream = [1, 3, 5, 8, 10, 12, 14]\n",
    "\n",
    "def map_mov(x):\n",
    "    '''\n",
    "    Convert 'PRAEGENDE_JUGENDJAHRE' column into \n",
    "    binary column for movement'''\n",
    "    try:\n",
    "        if x in mainstream:\n",
    "            return 0\n",
    "        else:\n",
    "            return 1\n",
    "    except ValueError:\n",
    "        return np.nan"
   ]
  },
  {
   "cell_type": "code",
   "execution_count": 49,
   "metadata": {},
   "outputs": [],
   "source": [
    "# Engineer two new variables: the generation and movement columns from PRAEGENDE_JUGENDJAHRE\n",
    "azdias_cat['PRAEGENDE_JUGENDJAHRE_GENERATION'] = azdias_cat['PRAEGENDE_JUGENDJAHRE'].apply(map_gen)\n",
    "azdias_cat['PRAEGENDE_JUGENDJAHRE_MOVEMENT'] = azdias_cat['PRAEGENDE_JUGENDJAHRE'].apply(map_mov)"
   ]
  },
  {
   "cell_type": "code",
   "execution_count": 50,
   "metadata": {},
   "outputs": [
    {
     "data": {
      "text/plain": [
       "1    51\n",
       "2    24\n",
       "3    12\n",
       "4    43\n",
       "5    54\n",
       "Name: CAMEO_INTL_2015, dtype: object"
      ]
     },
     "execution_count": 50,
     "metadata": {},
     "output_type": "execute_result"
    }
   ],
   "source": [
    "# Investigate \"CAMEO_INTL_2015\" and engineer two new variables.\n",
    "# create wealth and life stage features by breaking it as :\n",
    "# wealth feature :  'tens'-place digit\n",
    "# life stage feature : 'ones'-place digit\n",
    "azdias_cat.loc[:, 'CAMEO_INTL_2015'].head()"
   ]
  },
  {
   "cell_type": "code",
   "execution_count": 51,
   "metadata": {},
   "outputs": [],
   "source": [
    "def map_wealth(x):\n",
    "    '''Generate wealth feature - from CAMEO_INTL_2015 column '''\n",
    "    try:\n",
    "        if pd.isnull(x): # check if value is nan before getting the first index\n",
    "            return np.nan\n",
    "        else:\n",
    "            return int(str(x)[0])\n",
    "    except ValueError:\n",
    "        return np.nan"
   ]
  },
  {
   "cell_type": "code",
   "execution_count": 52,
   "metadata": {},
   "outputs": [],
   "source": [
    "def map_lifestage(x):\n",
    "    '''Generate Life stage feature - from CAMEO_INTL_2015 column '''\n",
    "    try:\n",
    "        if pd.isnull(x): # check if value is nan before getting the second index\n",
    "            return np.nan\n",
    "        else:\n",
    "            return int(str(x)[1])\n",
    "    except ValueError:\n",
    "        return np.nan"
   ]
  },
  {
   "cell_type": "code",
   "execution_count": 53,
   "metadata": {},
   "outputs": [],
   "source": [
    "# Engineer two new variables: the wealth and life stage columns from CAMEO_INTL_2015\n",
    "azdias_cat['CAMEO_INTL_2015_WEALTH'] = azdias_cat['CAMEO_INTL_2015'].apply(map_wealth)\n",
    "azdias_cat['CAMEO_INTL_2015_LIFESTAGE'] = azdias_cat['CAMEO_INTL_2015'].apply(map_lifestage)"
   ]
  },
  {
   "cell_type": "code",
   "execution_count": 54,
   "metadata": {},
   "outputs": [],
   "source": [
    "#TODO drop the other mixed variables \n",
    "# including the original 'PRAEGENDE_JUGENDJAHRE' and 'CAMEO_INTL_2015'\n",
    "azdias_cat.drop(columns=mixed_features, axis=0, inplace=True)"
   ]
  },
  {
   "cell_type": "code",
   "execution_count": 68,
   "metadata": {},
   "outputs": [],
   "source": [
    "# create copy of modified data - with re-encoded and dropped mixed-value variables\n",
    "azdias_mixed = azdias_cat.copy()"
   ]
  },
  {
   "cell_type": "markdown",
   "metadata": {},
   "source": [
    "#### Discussion 1.2.2: Engineer Mixed-Type Features\n",
    "\n",
    "We separated the mixed-value PRAEGENDE_JUGENDJAHRE into Generation and movememet data (mainstream and avantgarde) \n",
    "\n",
    "We decided to drop the rest of the mixed value features - `LP_LEBENSPHASE_FEIN, LP_LEBENSPHASE_GROB, WOHNLAGE and PLZ8_BAUMAX`"
   ]
  },
  {
   "cell_type": "markdown",
   "metadata": {},
   "source": [
    "#### Step 1.2.3: Complete Feature Selection\n",
    "\n",
    "In order to finish this step up, you need to make sure that your data frame now only has the columns that you want to keep. To summarize, the dataframe should consist of the following:\n",
    "- All numeric, interval, and ordinal type columns from the original dataset.\n",
    "- Binary categorical features (all numerically-encoded).\n",
    "- Engineered features from other multi-level categorical features and mixed features.\n",
    "\n",
    "Make sure that for any new columns that you have engineered, that you've excluded the original columns from the final dataset. Otherwise, their values will interfere with the analysis later on the project. For example, you should not keep \"PRAEGENDE_JUGENDJAHRE\", since its values won't be useful for the algorithm: only the values derived from it in the engineered features you created should be retained. As a reminder, your data should only be from **the subset with few or no missing values**."
   ]
  },
  {
   "cell_type": "code",
   "execution_count": 56,
   "metadata": {},
   "outputs": [],
   "source": [
    "# If there are other re-engineering tasks you need to perform, make sure you\n",
    "# take care of them here. (Dealing with missing data will come in step 2.1.)\n",
    "\n",
    "# Do whatever you need to in order to ensure that the dataframe only contains\n",
    "# the columns that should be passed to the algorithm functions.\n"
   ]
  },
  {
   "cell_type": "code",
   "execution_count": 57,
   "metadata": {},
   "outputs": [
    {
     "data": {
      "text/plain": [
       "['CJT_GESAMTTYP',\n",
       " 'FINANZTYP',\n",
       " 'GFK_URLAUBERTYP',\n",
       " 'LP_FAMILIE_FEIN',\n",
       " 'LP_FAMILIE_GROB',\n",
       " 'LP_STATUS_FEIN',\n",
       " 'LP_STATUS_GROB',\n",
       " 'NATIONALITAET_KZ',\n",
       " 'SHOPPER_TYP',\n",
       " 'VERS_TYP',\n",
       " 'ZABEOTYP',\n",
       " 'GEBAEUDETYP',\n",
       " 'CAMEO_DEUG_2015',\n",
       " 'CAMEO_DEU_2015']"
      ]
     },
     "execution_count": 57,
     "metadata": {},
     "output_type": "execute_result"
    }
   ],
   "source": [
    "# original list of multi-level categorical features \n",
    "multi_level"
   ]
  },
  {
   "cell_type": "code",
   "execution_count": 58,
   "metadata": {},
   "outputs": [
    {
     "data": {
      "text/plain": [
       "0"
      ]
     },
     "execution_count": 58,
     "metadata": {},
     "output_type": "execute_result"
    }
   ],
   "source": [
    "#make sure that all mixed columns are not our dataset \n",
    "number_of_original_catfeatures = [x for x in multi_level if x in azdias_mixed.columns]\n",
    "len(number_of_original_catfeatures)"
   ]
  },
  {
   "cell_type": "code",
   "execution_count": 59,
   "metadata": {},
   "outputs": [
    {
     "data": {
      "text/plain": [
       "15      LP_LEBENSPHASE_FEIN\n",
       "16      LP_LEBENSPHASE_GROB\n",
       "22    PRAEGENDE_JUGENDJAHRE\n",
       "56                 WOHNLAGE\n",
       "59          CAMEO_INTL_2015\n",
       "79              PLZ8_BAUMAX\n",
       "Name: attribute, dtype: object"
      ]
     },
     "execution_count": 59,
     "metadata": {},
     "output_type": "execute_result"
    }
   ],
   "source": [
    "# original list of mixed features \n",
    "mixed_features"
   ]
  },
  {
   "cell_type": "code",
   "execution_count": 60,
   "metadata": {},
   "outputs": [
    {
     "data": {
      "text/plain": [
       "0"
      ]
     },
     "execution_count": 60,
     "metadata": {},
     "output_type": "execute_result"
    }
   ],
   "source": [
    "#make sure that all mixed columns are not our dataset \n",
    "number_of_original_mixedfeatures = [x for x in mixed_features.tolist() if x in azdias_mixed.columns]\n",
    "len(number_of_original_mixedfeatures)"
   ]
  },
  {
   "cell_type": "code",
   "execution_count": 69,
   "metadata": {},
   "outputs": [],
   "source": [
    "# create copy of modified data - cleaned data\n",
    "azdias_clean = azdias_mixed.copy()\n"
   ]
  },
  {
   "cell_type": "code",
   "execution_count": 119,
   "metadata": {},
   "outputs": [
    {
     "data": {
      "text/plain": [
       "True"
      ]
     },
     "execution_count": 119,
     "metadata": {},
     "output_type": "execute_result"
    }
   ],
   "source": [
    "isinstance(azdias_clean, pd.DataFrame)"
   ]
  },
  {
   "cell_type": "markdown",
   "metadata": {},
   "source": [
    "### Step 1.3: Create a Cleaning Function\n",
    "\n",
    "Even though you've finished cleaning up the general population demographics data, it's important to look ahead to the future and realize that you'll need to perform the same cleaning steps on the customer demographics data. In this substep, complete the function below to execute the main feature selection, encoding, and re-engineering steps you performed above. Then, when it comes to looking at the customer data in Step 3, you can just run this function on that DataFrame to get the trimmed dataset in a single step."
   ]
  },
  {
   "cell_type": "code",
   "execution_count": 201,
   "metadata": {},
   "outputs": [],
   "source": [
    "def clean_data(df):\n",
    "    \"\"\"\n",
    "    Perform feature trimming, re-encoding, and engineering for demographics\n",
    "    data\n",
    "    \n",
    "    INPUT: Demographics DataFrame\n",
    "    OUTPUT: Trimmed and cleaned demographics DataFrame\n",
    "    \"\"\"\n",
    "    \n",
    "    # Get proportion of NaNs on each column \n",
    "    # Remove columns with more than 30% data missing \n",
    "    # Adjusted to from 20 to 30% as customers as most columns on customers data have atmost 30% of their data missing\n",
    "    perc_nans = df.isnull().mean().sort_values(ascending=False)\n",
    "    high_perc_nans = perc_nans[perc_nans != 0] #TODO remove this later on\n",
    "    highest_perc_nans = high_perc_nans[high_perc_nans > 0.3] \n",
    "    df.drop(highest_perc_nans.index, axis=1, inplace=True) \n",
    "#     print(highest_perc_nans)\n",
    "    \n",
    "    # Separate data into 2 subsets - rows with less missing data (atmost 10% reported missing) \n",
    "    # and rows with more missing data (more than 10% of its row data reported missing)\n",
    "    df['row_nans_perc'] = np.round(df.isnull().mean(axis=1), 1)\n",
    "    df = df[df['row_nans_perc'] <= 0.1] # azdias data within our threshold ie df_min\n",
    "   \n",
    "    # Select and Re-encode Features :: Categorical Features\n",
    "\n",
    "    # get list of categorical features\n",
    "    dropped_cols = highest_perc_nans.index\n",
    "    mask = (feat_info['type'] == 'categorical') & ~(feat_info['attribute'].isin(dropped_cols))\n",
    "    cat_features = feat_info.loc[mask, 'attribute']\n",
    "    \n",
    "    # Get list of multi-level features\n",
    "    multi_level = []\n",
    "    binary_non_numeric = []\n",
    "    for i in range(cat_features.shape[0]):\n",
    "        cat_feature = cat_features.iloc[i]\n",
    "        unique_cat_values = df.loc[:, cat_feature].unique()\n",
    "        unique_count = unique_cat_values.size\n",
    "        if (unique_count == 2) and df.loc[:, cat_feature].dtype == np.object:\n",
    "            binary_non_numeric.append(cat_feature)\n",
    "        elif unique_count > 2 : \n",
    "            multi_level.append(cat_feature)\t\n",
    "\n",
    "#     print(df.columns)\n",
    "    # separate multi-level features into - features to keep (and re-encode) and to drop\n",
    "    multi_level_drop = ['CAMEO_DEU_2015', 'LP_FAMILIE_FEIN', 'LP_STATUS_FEIN']\n",
    "#     multi_level_drop = [x for x in multi_level_drop if x in customers_clean.columns] # confirm column name is on dataframe\n",
    "    multi_level_keep = [x for x in multi_level if x not in multi_level_drop]\n",
    "    \n",
    "    # Re-encode binary non-numeric categorical variables with dummy variables\n",
    "#     df.loc[:, 'OST_WEST_KZ'].replace({'W':0, 'O':1}, inplace=True)\n",
    "    df = pd.get_dummies(df, columns=binary_non_numeric)\n",
    "\n",
    "    # Re-encode multi-level categorical variables to keep with dummy variables\n",
    "    df = pd.get_dummies(df, columns=multi_level_keep)\n",
    "\n",
    "    # Drop the multi-level categorical variable CAMEO_DEU_2015, LP_FAMILIE_FEIN and LP_STATUS_FEIN\n",
    "    df.drop(columns=multi_level_drop, axis=0, inplace=True)\n",
    "\n",
    "\n",
    "    # Select and Re-encode Features :: Mixed-value Features\n",
    "\n",
    "    # get all mixed features (not including the dropped columns)\n",
    "    mask = (feat_info['type'] == 'mixed') & ~(feat_info['attribute'].isin(dropped_cols))\n",
    "    mixed_features = feat_info.loc[mask, 'attribute']\n",
    "\n",
    "    # re-encode PRAEGENDE_JUGENDJAHRE mixed-value feature\n",
    "    # create two new variables: the generation and movement columns from PRAEGENDE_JUGENDJAHRE\n",
    "    df['PRAEGENDE_JUGENDJAHRE_GENERATION'] = df['PRAEGENDE_JUGENDJAHRE'].apply(map_gen)\n",
    "    df['PRAEGENDE_JUGENDJAHRE_MOVEMENT'] = df['PRAEGENDE_JUGENDJAHRE'].apply(map_mov)\n",
    "\n",
    "    # re-encode CAMEO_INTL_2015 mixed-value feature\n",
    "    # create two new variables: the wealth and life stage columns from CAMEO_INTL_2015\n",
    "    df['CAMEO_INTL_2015_WEALTH'] = df['CAMEO_INTL_2015'].apply(map_wealth)\n",
    "    df['CAMEO_INTL_2015_LIFESTAGE'] = df['CAMEO_INTL_2015'].apply(map_lifestage)\n",
    "\n",
    "    # drop the other mixed variables \n",
    "    # including the original 'PRAEGENDE_JUGENDJAHRE' and 'CAMEO_INTL_2015'\n",
    "    df.drop(columns=mixed_features, axis=0, inplace=True)\n",
    "\n",
    "    # return cleaned data set\n",
    "    return df\n",
    "\n",
    "    "
   ]
  },
  {
   "cell_type": "markdown",
   "metadata": {},
   "source": [
    "## Step 2: Feature Transformation\n",
    "\n",
    "### Step 2.1: Apply Feature Scaling\n",
    "\n",
    "Before we apply dimensionality reduction techniques to the data, we need to perform feature scaling so that the principal component vectors are not influenced by the natural differences in scale for features. Starting from this part of the project, you'll want to keep an eye on the [API reference page for sklearn](http://scikit-learn.org/stable/modules/classes.html) to help you navigate to all of the classes and functions that you'll need. In this substep, you'll need to check the following:\n",
    "\n",
    "- sklearn requires that data not have missing values in order for its estimators to work properly. So, before applying the scaler to your data, make sure that you've cleaned the DataFrame of the remaining missing values. This can be as simple as just removing all data points with missing data, or applying an [Imputer](http://scikit-learn.org/stable/modules/generated/sklearn.preprocessing.Imputer.html) to replace all missing values. You might also try a more complicated procedure where you temporarily remove missing values in order to compute the scaling parameters before re-introducing those missing values and applying imputation. Think about how much missing data you have and what possible effects each approach might have on your analysis, and justify your decision in the discussion section below.\n",
    "- For the actual scaling function, a [StandardScaler](http://scikit-learn.org/stable/modules/generated/sklearn.preprocessing.StandardScaler.html) instance is suggested, scaling each feature to mean 0 and standard deviation 1.\n",
    "- For these classes, you can make use of the `.fit_transform()` method to both fit a procedure to the data as well as apply the transformation to the data at the same time. Don't forget to keep the fit sklearn objects handy, since you'll be applying them to the customer demographics data towards the end of the project."
   ]
  },
  {
   "cell_type": "code",
   "execution_count": null,
   "metadata": {},
   "outputs": [],
   "source": [
    "# If you've not yet cleaned the dataset of all NaN values, then investigate and\n",
    "# do that now."
   ]
  },
  {
   "cell_type": "code",
   "execution_count": 120,
   "metadata": {},
   "outputs": [
    {
     "data": {
      "text/plain": [
       "(623211, 129)"
      ]
     },
     "execution_count": 120,
     "metadata": {},
     "output_type": "execute_result"
    }
   ],
   "source": [
    "# before checking for remaining missing values we have\n",
    "# 781280 rows ,  129 columns\n",
    "azdias_clean.shape"
   ]
  },
  {
   "cell_type": "code",
   "execution_count": 121,
   "metadata": {},
   "outputs": [
    {
     "data": {
      "text/plain": [
       "0"
      ]
     },
     "execution_count": 121,
     "metadata": {},
     "output_type": "execute_result"
    }
   ],
   "source": [
    "#check if there's missing data in cleaned data set \n",
    "# we have  477114 missing values\n",
    "azdias_clean.isna().sum().sum()"
   ]
  },
  {
   "cell_type": "code",
   "execution_count": 122,
   "metadata": {},
   "outputs": [],
   "source": [
    "azdias_clean.dropna(inplace=True) # drop rows with missing values"
   ]
  },
  {
   "cell_type": "code",
   "execution_count": 123,
   "metadata": {},
   "outputs": [
    {
     "data": {
      "text/plain": [
       "0"
      ]
     },
     "execution_count": 123,
     "metadata": {},
     "output_type": "execute_result"
    }
   ],
   "source": [
    "# checking again if we still have missing values \n",
    "azdias_clean.isnull().sum().sum()"
   ]
  },
  {
   "cell_type": "code",
   "execution_count": 124,
   "metadata": {},
   "outputs": [
    {
     "data": {
      "text/plain": [
       "(623211, 129)"
      ]
     },
     "execution_count": 124,
     "metadata": {},
     "output_type": "execute_result"
    }
   ],
   "source": [
    "# after removing remaining missing values we have\n",
    "# 623211 rows ,  129 columns\n",
    "azdias_clean.shape"
   ]
  },
  {
   "cell_type": "code",
   "execution_count": 125,
   "metadata": {},
   "outputs": [],
   "source": [
    "# Apply feature scaling to the general population demographics data.\n",
    "scaler = StandardScaler()\n",
    "azdias_scaled = scaler.fit_transform(azdias_clean)"
   ]
  },
  {
   "cell_type": "markdown",
   "metadata": {},
   "source": [
    "### Discussion 2.1: Apply Feature Scaling\n",
    "\n",
    "We decided to remove all missing values seeing we don't have enough domain knowledge to \n",
    "justify placing some replacing the missing values"
   ]
  },
  {
   "cell_type": "markdown",
   "metadata": {},
   "source": [
    "### Step 2.2: Perform Dimensionality Reduction\n",
    "\n",
    "On your scaled data, you are now ready to apply dimensionality reduction techniques.\n",
    "\n",
    "- Use sklearn's [PCA](http://scikit-learn.org/stable/modules/generated/sklearn.decomposition.PCA.html) class to apply principal component analysis on the data, thus finding the vectors of maximal variance in the data. To start, you should not set any parameters (so all components are computed) or set a number of components that is at least half the number of features (so there's enough features to see the general trend in variability).\n",
    "- Check out the ratio of variance explained by each principal component as well as the cumulative variance explained. Try plotting the cumulative or sequential values using matplotlib's [`plot()`](https://matplotlib.org/api/_as_gen/matplotlib.pyplot.plot.html) function. Based on what you find, select a value for the number of transformed features you'll retain for the clustering part of the project.\n",
    "- Once you've made a choice for the number of components to keep, make sure you re-fit a PCA instance to perform the decided-on transformation."
   ]
  },
  {
   "cell_type": "code",
   "execution_count": 81,
   "metadata": {},
   "outputs": [],
   "source": [
    "# Apply PCA to the data.\n",
    "pca = PCA()\n",
    "azdias_pca = pca.fit_transform(azdias_scaled)"
   ]
  },
  {
   "cell_type": "code",
   "execution_count": 82,
   "metadata": {},
   "outputs": [],
   "source": [
    "# Investigate the variance accounted for by each principal component.\n",
    "def scree_plot(pca, components_no=None, show_labels=False):\n",
    "\n",
    "    vals = pca.explained_variance_ratio_\n",
    "    if components_no:\n",
    "        vals = vals[:components_no]\n",
    "    num_components = len(vals)\n",
    "    ind = np.arange(num_components)\n",
    " \n",
    "    plt.figure(figsize=(18, 8))\n",
    "    ax = plt.subplot(111)\n",
    "    cumvals = np.cumsum(vals)\n",
    "    ax.bar(ind, vals)\n",
    "    ax.plot(ind, cumvals)\n",
    "    \n",
    "    if show_labels:\n",
    "        for i in range(num_components):\n",
    "            ax.annotate(r\"%s%%\" % ((str(vals[i]*100)[:4])), (ind[i]+0.2, vals[i]), va=\"bottom\", ha=\"center\", fontsize=12)\n",
    " \n",
    "    ax.xaxis.set_tick_params(width=0)\n",
    "    ax.yaxis.set_tick_params(width=2, length=12)\n",
    " \n",
    "    ax.set_xlabel(\"Principal Component\")\n",
    "    ax.set_ylabel(\"Variance Explained (%)\")\n",
    "    plt.title('Explained Variance Per Principal Component')"
   ]
  },
  {
   "cell_type": "code",
   "execution_count": 83,
   "metadata": {},
   "outputs": [
    {
     "data": {
      "image/png": "[encoded data removed]",
      "text/plain": [
       "<matplotlib.figure.Figure at 0x7f6f29de48d0>"
      ]
     },
     "metadata": {
      "needs_background": "light"
     },
     "output_type": "display_data"
    }
   ],
   "source": [
    "scree_plot(pca, show_labels=False)"
   ]
  },
  {
   "cell_type": "code",
   "execution_count": 108,
   "metadata": {},
   "outputs": [
    {
     "name": "stdout",
     "output_type": "stream",
     "text": [
      "10 components explain 0.40331934521178303 of variance.\n",
      "15 components explain 0.4711628870275462 of variance.\n",
      "20 components explain 0.526715391447435 of variance.\n",
      "25 components explain 0.5764967474235212 of variance.\n",
      "30 components explain 0.6224499958624515 of variance.\n",
      "35 components explain 0.6661800513349668 of variance.\n",
      "40 components explain 0.7079117537811908 of variance.\n",
      "45 components explain 0.7079117537811908 of variance.\n",
      "50 components explain 0.7079117537811908 of variance.\n",
      "55 components explain 0.7079117537811908 of variance.\n",
      "60 components explain 0.7079117537811908 of variance.\n",
      "65 components explain 0.7079117537811908 of variance.\n"
     ]
    }
   ],
   "source": [
    "# the above screeplot - we see that around 40 pricipal component\n",
    "# we see having more principal components - the rate at which cumulative variance increases a slows down there after \n",
    "for i in np.arange(10, 70, 5):\n",
    "    print('{} components explain {} of variance.'.format(i, pca.explained_variance_ratio_[:i].sum()))"
   ]
  },
  {
   "cell_type": "code",
   "execution_count": 115,
   "metadata": {},
   "outputs": [],
   "source": [
    "# Re-apply PCA to the data while selecting for number of components to retain.\n",
    "pca = PCA(n_components=40)\n",
    "azdias_pca = pca.fit_transform(azdias_scaled)"
   ]
  },
  {
   "cell_type": "markdown",
   "metadata": {},
   "source": [
    "### Discussion 2.2: Perform Dimensionality Reduction\n",
    "\n",
    "(Double-click this cell and replace this text with your own text, reporting your findings and decisions regarding dimensionality reduction. How many principal components / transformed features are you retaining for the next step of the analysis?)"
   ]
  },
  {
   "cell_type": "markdown",
   "metadata": {},
   "source": [
    "### Step 2.3: Interpret Principal Components\n",
    "\n",
    "Now that we have our transformed principal components, it's a nice idea to check out the weight of each variable on the first few components to see if they can be interpreted in some fashion.\n",
    "\n",
    "As a reminder, each principal component is a unit vector that points in the direction of highest variance (after accounting for the variance captured by earlier principal components). The further a weight is from zero, the more the principal component is in the direction of the corresponding feature. If two features have large weights of the same sign (both positive or both negative), then increases in one tend expect to be associated with increases in the other. To contrast, features with different signs can be expected to show a negative correlation: increases in one variable should result in a decrease in the other.\n",
    "\n",
    "- To investigate the features, you should map each weight to their corresponding feature name, then sort the features according to weight. The most interesting features for each principal component, then, will be those at the beginning and end of the sorted list. Use the data dictionary document to help you understand these most prominent features, their relationships, and what a positive or negative value on the principal component might indicate.\n",
    "- You should investigate and interpret feature associations from the first three principal components in this substep. To help facilitate this, you should write a function that you can call at any time to print the sorted list of feature weights, for the *i*-th principal component. This might come in handy in the next step of the project, when you interpret the tendencies of the discovered clusters."
   ]
  },
  {
   "cell_type": "code",
   "execution_count": 134,
   "metadata": {},
   "outputs": [],
   "source": [
    "# HINT: Try defining a function here or in a new cell that you can reuse in the\n",
    "# other cells.\n",
    "\n",
    "#draw plot for visualizing those weights\n",
    "def plot_pca_components(data, pca, no_component):\n",
    "    '''\n",
    "    Plot features_no features with the most positive and negative variance\n",
    "    for a component_no PCA component\n",
    "    '''\n",
    "    pca_component = pd.DataFrame(np.round(pca.components_, 4), columns = data.keys()).iloc[no_component-1]\n",
    "    # the most interesting features will be those at the start and end of sorted list\n",
    "    pca_component.sort_values(ascending=False, inplace=True)\n",
    "    pca_component = pd.concat([pca_component.head(5), pca_component.tail(5)]) \n",
    "    \n",
    "    pca_component.plot(kind='bar', \n",
    "                       title=f'Top 10 weighted features for PCA component {no_component}',\n",
    "                      figsize=(12, 6))\n",
    "    plt.show()\n",
    "    print(f'Top features mapped to Principal component: {no_component}')\n",
    "    print(pca_component)"
   ]
  },
  {
   "cell_type": "code",
   "execution_count": 135,
   "metadata": {},
   "outputs": [
    {
     "data": {
      "image/png": "[encoded data removed]",
      "text/plain": [
       "<matplotlib.figure.Figure at 0x7f6f2981a438>"
      ]
     },
     "metadata": {
      "needs_background": "light"
     },
     "output_type": "display_data"
    },
    {
     "name": "stdout",
     "output_type": "stream",
     "text": [
      "Top features mapped to Principal component: 0\n",
      "FINANZTYP_4.0           0.3062\n",
      "GFK_URLAUBERTYP_10.0    0.2908\n",
      "RELAT_AB                0.2157\n",
      "GFK_URLAUBERTYP_6.0     0.1781\n",
      "ZABEOTYP_6.0            0.1741\n",
      "FINANZTYP_3.0          -0.1431\n",
      "CAMEO_DEUG_2015_4      -0.1548\n",
      "GFK_URLAUBERTYP_11.0   -0.1588\n",
      "CAMEO_DEUG_2015_7      -0.1902\n",
      "GFK_URLAUBERTYP_3.0    -0.5000\n",
      "Name: 39, dtype: float64\n"
     ]
    }
   ],
   "source": [
    "# Map weights for the first principal component to corresponding feature names\n",
    "# and then print the linked values, sorted by weight.\n",
    "plot_pca_components(data=azdias_clean, pca=pca, no_component=0)"
   ]
  },
  {
   "cell_type": "code",
   "execution_count": 136,
   "metadata": {},
   "outputs": [
    {
     "data": {
      "image/png": "[encoded data removed]",
      "text/plain": [
       "<matplotlib.figure.Figure at 0x7f6f4d7fbef0>"
      ]
     },
     "metadata": {
      "needs_background": "light"
     },
     "output_type": "display_data"
    },
    {
     "name": "stdout",
     "output_type": "stream",
     "text": [
      "Top features mapped to Principal component: 1\n",
      "LP_STATUS_GROB_1.0        0.1933\n",
      "HH_EINKOMMEN_SCORE        0.1807\n",
      "PLZ8_ANTG3                0.1785\n",
      "CAMEO_INTL_2015_WEALTH    0.1772\n",
      "PLZ8_ANTG4                0.1735\n",
      "KBA05_GBZ                -0.1798\n",
      "PLZ8_ANTG1               -0.1809\n",
      "KBA05_ANTG1              -0.1913\n",
      "MOBI_REGIO               -0.2033\n",
      "FINANZ_MINIMALIST        -0.2092\n",
      "Name: 0, dtype: float64\n"
     ]
    }
   ],
   "source": [
    "# Map weights for the second principal component to corresponding feature names\n",
    "# and then print the linked values, sorted by weight.\n",
    "plot_pca_components(data=azdias_clean, pca=pca, no_component=1)"
   ]
  },
  {
   "cell_type": "code",
   "execution_count": 137,
   "metadata": {},
   "outputs": [
    {
     "data": {
      "image/png": "[encoded data removed]",
      "text/plain": [
       "<matplotlib.figure.Figure at 0x7f6f4d8a4da0>"
      ]
     },
     "metadata": {
      "needs_background": "light"
     },
     "output_type": "display_data"
    },
    {
     "name": "stdout",
     "output_type": "stream",
     "text": [
      "Top features mapped to Principal component: 2\n",
      "ALTERSKATEGORIE_GROB                0.2156\n",
      "ZABEOTYP_3.0                        0.1996\n",
      "FINANZ_VORSORGER                    0.1949\n",
      "SEMIO_ERL                           0.1851\n",
      "RETOURTYP_BK_S                      0.1517\n",
      "FINANZ_SPARER                      -0.1961\n",
      "SEMIO_PFLICHT                      -0.1973\n",
      "FINANZ_UNAUFFAELLIGER              -0.2008\n",
      "SEMIO_REL                          -0.2129\n",
      "PRAEGENDE_JUGENDJAHRE_GENERATION   -0.2178\n",
      "Name: 1, dtype: float64\n"
     ]
    }
   ],
   "source": [
    "# Map weights for the third principal component to corresponding feature names\n",
    "# and then print the linked values, sorted by weight.\n",
    "plot_pca_components(data=azdias_clean, pca=pca, no_component=2)"
   ]
  },
  {
   "cell_type": "markdown",
   "metadata": {},
   "source": [
    "### Discussion 2.3: Interpret Principal Components\n",
    "\n",
    "\n",
    "**Top Features for First Principal Component** \n",
    "\n",
    "is positively related to :\n",
    "- FINANZTYP_4.0           Financial Type for individual (be prepared)\n",
    "- GFK_URLAUBERTYP_10.0    Vacation habits  (Connoisseurs\n",
    "- RELAT_AB                Share of unemployment relative to county in which community is contained\n",
    "- GFK_URLAUBERTYP_6.0     Vacation habits (Hikers)\n",
    "- ZABEOTYP_6.0            Energy consumption typology (indifferent)\n",
    "\n",
    "is negatively related to :\n",
    "- FINANZTYP_3.0          Finacial Type for individual (home ownership)\n",
    "- CAMEO_DEUG_2015_4       Wealth / Life Stage Typology (consumption-oriented middleclass)\n",
    "- GFK_URLAUBERTYP_11.0    Vacation habits (Active families)\n",
    "- CAMEO_DEUG_2015_7      Wealth / Life Stage Typology (lower middleclass)\n",
    "- GFK_URLAUBERTYP_3.0    Vacation habits (Winter sportspeople)\n",
    "\n",
    "_Meaningful interpretation : The first component is generally related to Person level, RR4 micro-cell and Community-level features_\n",
    "\n",
    "\n",
    "**Top Features for Second Principal Component** \n",
    "\n",
    "is positively related to :\n",
    "- LP_STATUS_GROB_1.0        Social status (low-income earners)\n",
    "- HH_EINKOMMEN_SCORE        Estimated household net income\n",
    "- PLZ8_ANTG3                Number of 6-10 family houses in the PLZ8 region \n",
    "- CAMEO_INTL_2015_WEALTH    Wealth level\n",
    "- PLZ8_ANTG4                Number of 6-10 family houses in the PLZ8 region\n",
    "\n",
    "is negatively related to :\n",
    "- KBA05_GBZ                Number of buildings in the microcell\n",
    "- PLZ8_ANTG1               Number of 1-2 family houses in the PLZ8 region\n",
    "- KBA05_ANTG1              Number of 1-2 family houses in the microcell\n",
    "- MOBI_REGIO               Movement patterns\n",
    "- FINANZ_MINIMALIST        Financial typology (low financial interest)\n",
    "\n",
    "_Meaningful interpretation : The second component is generally related to Person level, Household level, \n",
    "RR4 micro-cell, RR3 micro-cell, RR1 neighborhood and PLZ8 macro-cell features_\n",
    "\n",
    "**Top Features for Third Principal Component** \n",
    "\n",
    "is positively related to :\n",
    "- ALTERSKATEGORIE_GROB                Estimated age based on given name analysis\n",
    "- ZABEOTYP_3.0                        Energy consumption typology (fair supplied)\n",
    "- FINANZ_VORSORGER                    Financial typology (be prepared)\n",
    "- SEMIO_ERL                           Personality typology (event-oriented)\n",
    "- RETOURTYP_BK_S                      Return type \n",
    "\n",
    "is negatively related to :\n",
    "- FINANZ_SPARER                      Financial typology (money-saver)\n",
    "- SEMIO_PFLICHT                      Personality typology (dutiful)\n",
    "- FINANZ_UNAUFFAELLIGER              Financial typology (inconspicuous)\n",
    "- SEMIO_REL                          Personality typology (religious)\n",
    "- PRAEGENDE_JUGENDJAHRE_GENERATION   Persons Generation (40s, 50s, 60s, 70s, 80s, 90s)\n",
    "\n",
    "_Meaningful interpretation : The third component is generally related to Person level attributes_\n"
   ]
  },
  {
   "cell_type": "markdown",
   "metadata": {},
   "source": [
    "## Step 3: Clustering\n",
    "\n",
    "### Step 3.1: Apply Clustering to General Population\n",
    "\n",
    "You've assessed and cleaned the demographics data, then scaled and transformed them. Now, it's time to see how the data clusters in the principal components space. In this substep, you will apply k-means clustering to the dataset and use the average within-cluster distances from each point to their assigned cluster's centroid to decide on a number of clusters to keep.\n",
    "\n",
    "- Use sklearn's [KMeans](http://scikit-learn.org/stable/modules/generated/sklearn.cluster.KMeans.html#sklearn.cluster.KMeans) class to perform k-means clustering on the PCA-transformed data.\n",
    "- Then, compute the average difference from each point to its assigned cluster's center. **Hint**: The KMeans object's `.score()` method might be useful here, but note that in sklearn, scores tend to be defined so that larger is better. Try applying it to a small, toy dataset, or use an internet search to help your understanding.\n",
    "- Perform the above two steps for a number of different cluster counts. You can then see how the average distance decreases with an increasing number of clusters. However, each additional cluster provides a smaller net benefit. Use this fact to select a final number of clusters in which to group the data. **Warning**: because of the large size of the dataset, it can take a long time for the algorithm to resolve. The more clusters to fit, the longer the algorithm will take. You should test for cluster counts through at least 10 clusters to get the full picture, but you shouldn't need to test for a number of clusters above about 30.\n",
    "- Once you've selected a final number of clusters to use, re-fit a KMeans instance to perform the clustering operation. Make sure that you also obtain the cluster assignments for the general demographics data, since you'll be using them in the final Step 3.3."
   ]
  },
  {
   "cell_type": "code",
   "execution_count": 139,
   "metadata": {},
   "outputs": [],
   "source": [
    "# to reduce on computation time we will sample a 'toy' data set to perform clustering with\n",
    "# with 20% of our data\n",
    "azdias_pca_sample = azdias_pca[np.random.choice(azdias_pca.shape[0], int(azdias_pca.shape[0]*0.2), replace=False)]"
   ]
  },
  {
   "cell_type": "code",
   "execution_count": 142,
   "metadata": {},
   "outputs": [
    {
     "name": "stdout",
     "output_type": "stream",
     "text": [
      "Clustering done for 10 k, with SSE 7494365.450576126\n",
      "Clustering done for 11 k, with SSE 7409536.460923156\n",
      "Clustering done for 12 k, with SSE 7319022.856389881\n",
      "Clustering done for 13 k, with SSE 7251007.4926520875\n",
      "Clustering done for 14 k, with SSE 7177432.779693183\n",
      "Clustering done for 15 k, with SSE 7120192.600056072\n",
      "Clustering done for 16 k, with SSE 7069580.534537986\n",
      "Clustering done for 17 k, with SSE 6969973.121484899\n",
      "Clustering done for 18 k, with SSE 6921764.089028785\n",
      "Clustering done for 19 k, with SSE 6871990.122279846\n",
      "Clustering done for 20 k, with SSE 6838976.250099088\n",
      "Clustering done for 21 k, with SSE 6787275.640263704\n",
      "Clustering done for 22 k, with SSE 6746557.679950862\n",
      "Clustering done for 23 k, with SSE 6716061.0836920515\n",
      "Clustering done for 24 k, with SSE 6678590.511683882\n",
      "Clustering done for 25 k, with SSE 6648065.581788852\n",
      "Clustering done for 26 k, with SSE 6612963.332312652\n",
      "Clustering done for 27 k, with SSE 6578416.2182334075\n",
      "Clustering done for 28 k, with SSE 6558517.150168759\n",
      "Clustering done for 29 k, with SSE 6521643.963121821\n",
      "Clustering done for 30 k, with SSE 6504190.36805476\n"
     ]
    }
   ],
   "source": [
    "# Over a number of different cluster counts...\n",
    "k_range = np.arange(10, 31)\n",
    "sse = [] # list of squared sum errors\n",
    "for k in k_range:\n",
    "    # run k-means clustering on the data and...\n",
    "    kmeans = KMeans(k, random_state=1234, max_iter=30, n_jobs=-1).fit(azdias_pca_sample)\n",
    "    score = np.abs(kmeans.score(azdias_pca_sample))\n",
    "    # compute the average within-cluster distances.\n",
    "    sse.append(score)\n",
    "    print('Clustering done for {} k, with SSE {}'.format(k, score))\n",
    "    "
   ]
  },
  {
   "cell_type": "code",
   "execution_count": 145,
   "metadata": {},
   "outputs": [
    {
     "data": {
      "image/png": "[encoded data removed]",
      "text/plain": [
       "<matplotlib.figure.Figure at 0x7f6f5d0eb208>"
      ]
     },
     "metadata": {
      "needs_background": "light"
     },
     "output_type": "display_data"
    }
   ],
   "source": [
    "# Investigate the change in within-cluster distance across number of clusters.\n",
    "# HINT: Use matplotlib's plot function to visualize this relationship.\n",
    "\n",
    "# using the Elbow Method to identify the right value of k\n",
    "plt.figure(figsize=(16, 8))\n",
    "plt.xticks(np.arange(0, k_range[-1]+1, step=1))\n",
    "plt.xlabel('K')\n",
    "plt.ylabel('SSE')\n",
    "plt.title('SSE vs. K')\n",
    "plt.plot(k_range, sse, linestyle='-', marker=\"o\");"
   ]
  },
  {
   "cell_type": "code",
   "execution_count": 146,
   "metadata": {},
   "outputs": [],
   "source": [
    "# Re-fit the k-means model with the selected number of clusters and obtain\n",
    "# cluster predictions for the general population demographics data.\n",
    "k = 17\n",
    "kmeans = KMeans(k, random_state=1234, max_iter=30, n_jobs=-1).fit(azdias_pca)\n",
    "population_clusters = kmeans.predict(azdias_pca)"
   ]
  },
  {
   "cell_type": "markdown",
   "metadata": {},
   "source": [
    "### Discussion 3.1: Apply Clustering to General Population\n",
    "\n",
    "We generated a 'toy' dataset by randomly choosing 20% of our clean data - then used the Elbow method to identify the suitable number of clusters. The plot did not show a dramatic change with different number of cluster but around 17 cluster the plot gradient shows a change where with higher number of clusters the rate of change is lower. So we chose to use 17 clusters to segment the population."
   ]
  },
  {
   "cell_type": "markdown",
   "metadata": {},
   "source": [
    "### Step 3.2: Apply All Steps to the Customer Data\n",
    "\n",
    "Now that you have clusters and cluster centers for the general population, it's time to see how the customer data maps on to those clusters. Take care to not confuse this for re-fitting all of the models to the customer data. Instead, you're going to use the fits from the general population to clean, transform, and cluster the customer data. In the last step of the project, you will interpret how the general population fits apply to the customer data.\n",
    "\n",
    "- Don't forget when loading in the customers data, that it is semicolon (`;`) delimited.\n",
    "- Apply the same feature wrangling, selection, and engineering steps to the customer demographics using the `clean_data()` function you created earlier. (You can assume that the customer demographics data has similar meaning behind missing data patterns as the general demographics data.)\n",
    "- Use the sklearn objects from the general demographics data, and apply their transformations to the customers data. That is, you should not be using a `.fit()` or `.fit_transform()` method to re-fit the old objects, nor should you be creating new sklearn objects! Carry the data through the feature scaling, PCA, and clustering steps, obtaining cluster assignments for all of the data in the customer demographics data."
   ]
  },
  {
   "cell_type": "code",
   "execution_count": 212,
   "metadata": {},
   "outputs": [],
   "source": [
    "# Load in the customer demographics data.\n",
    "customers = pd.read_csv('Udacity_CUSTOMERS_Subset.csv', sep=';')"
   ]
  },
  {
   "cell_type": "code",
   "execution_count": 152,
   "metadata": {},
   "outputs": [
    {
     "data": {
      "text/plain": [
       "(191652, 85)"
      ]
     },
     "execution_count": 152,
     "metadata": {},
     "output_type": "execute_result"
    }
   ],
   "source": [
    "customers.shape # number of rows ond columns"
   ]
  },
  {
   "cell_type": "code",
   "execution_count": 150,
   "metadata": {},
   "outputs": [
    {
     "data": {
      "text/html": [
       "<div>\n",
       "<style scoped>\n",
       "    .dataframe tbody tr th:only-of-type {\n",
       "        vertical-align: middle;\n",
       "    }\n",
       "\n",
       "    .dataframe tbody tr th {\n",
       "        vertical-align: top;\n",
       "    }\n",
       "\n",
       "    .dataframe thead th {\n",
       "        text-align: right;\n",
       "    }\n",
       "</style>\n",
       "<table border=\"1\" class=\"dataframe\">\n",
       "  <thead>\n",
       "    <tr style=\"text-align: right;\">\n",
       "      <th></th>\n",
       "      <th>AGER_TYP</th>\n",
       "      <th>ALTERSKATEGORIE_GROB</th>\n",
       "      <th>ANREDE_KZ</th>\n",
       "      <th>CJT_GESAMTTYP</th>\n",
       "      <th>FINANZ_MINIMALIST</th>\n",
       "      <th>FINANZ_SPARER</th>\n",
       "      <th>FINANZ_VORSORGER</th>\n",
       "      <th>FINANZ_ANLEGER</th>\n",
       "      <th>FINANZ_UNAUFFAELLIGER</th>\n",
       "      <th>FINANZ_HAUSBAUER</th>\n",
       "      <th>...</th>\n",
       "      <th>PLZ8_ANTG1</th>\n",
       "      <th>PLZ8_ANTG2</th>\n",
       "      <th>PLZ8_ANTG3</th>\n",
       "      <th>PLZ8_ANTG4</th>\n",
       "      <th>PLZ8_BAUMAX</th>\n",
       "      <th>PLZ8_HHZ</th>\n",
       "      <th>PLZ8_GBZ</th>\n",
       "      <th>ARBEIT</th>\n",
       "      <th>ORTSGR_KLS9</th>\n",
       "      <th>RELAT_AB</th>\n",
       "    </tr>\n",
       "  </thead>\n",
       "  <tbody>\n",
       "    <tr>\n",
       "      <th>0</th>\n",
       "      <td>2</td>\n",
       "      <td>4</td>\n",
       "      <td>1</td>\n",
       "      <td>5.0</td>\n",
       "      <td>5</td>\n",
       "      <td>1</td>\n",
       "      <td>5</td>\n",
       "      <td>1</td>\n",
       "      <td>2</td>\n",
       "      <td>2</td>\n",
       "      <td>...</td>\n",
       "      <td>3.0</td>\n",
       "      <td>3.0</td>\n",
       "      <td>1.0</td>\n",
       "      <td>0.0</td>\n",
       "      <td>1.0</td>\n",
       "      <td>5.0</td>\n",
       "      <td>5.0</td>\n",
       "      <td>1.0</td>\n",
       "      <td>2.0</td>\n",
       "      <td>1.0</td>\n",
       "    </tr>\n",
       "    <tr>\n",
       "      <th>1</th>\n",
       "      <td>-1</td>\n",
       "      <td>4</td>\n",
       "      <td>1</td>\n",
       "      <td>NaN</td>\n",
       "      <td>5</td>\n",
       "      <td>1</td>\n",
       "      <td>5</td>\n",
       "      <td>1</td>\n",
       "      <td>3</td>\n",
       "      <td>2</td>\n",
       "      <td>...</td>\n",
       "      <td>NaN</td>\n",
       "      <td>NaN</td>\n",
       "      <td>NaN</td>\n",
       "      <td>NaN</td>\n",
       "      <td>NaN</td>\n",
       "      <td>NaN</td>\n",
       "      <td>NaN</td>\n",
       "      <td>NaN</td>\n",
       "      <td>NaN</td>\n",
       "      <td>NaN</td>\n",
       "    </tr>\n",
       "    <tr>\n",
       "      <th>2</th>\n",
       "      <td>-1</td>\n",
       "      <td>4</td>\n",
       "      <td>2</td>\n",
       "      <td>2.0</td>\n",
       "      <td>5</td>\n",
       "      <td>1</td>\n",
       "      <td>5</td>\n",
       "      <td>1</td>\n",
       "      <td>4</td>\n",
       "      <td>4</td>\n",
       "      <td>...</td>\n",
       "      <td>2.0</td>\n",
       "      <td>3.0</td>\n",
       "      <td>3.0</td>\n",
       "      <td>1.0</td>\n",
       "      <td>3.0</td>\n",
       "      <td>3.0</td>\n",
       "      <td>2.0</td>\n",
       "      <td>3.0</td>\n",
       "      <td>5.0</td>\n",
       "      <td>3.0</td>\n",
       "    </tr>\n",
       "    <tr>\n",
       "      <th>3</th>\n",
       "      <td>1</td>\n",
       "      <td>4</td>\n",
       "      <td>1</td>\n",
       "      <td>2.0</td>\n",
       "      <td>5</td>\n",
       "      <td>1</td>\n",
       "      <td>5</td>\n",
       "      <td>2</td>\n",
       "      <td>1</td>\n",
       "      <td>2</td>\n",
       "      <td>...</td>\n",
       "      <td>3.0</td>\n",
       "      <td>2.0</td>\n",
       "      <td>1.0</td>\n",
       "      <td>0.0</td>\n",
       "      <td>1.0</td>\n",
       "      <td>3.0</td>\n",
       "      <td>4.0</td>\n",
       "      <td>1.0</td>\n",
       "      <td>3.0</td>\n",
       "      <td>1.0</td>\n",
       "    </tr>\n",
       "    <tr>\n",
       "      <th>4</th>\n",
       "      <td>-1</td>\n",
       "      <td>3</td>\n",
       "      <td>1</td>\n",
       "      <td>6.0</td>\n",
       "      <td>3</td>\n",
       "      <td>1</td>\n",
       "      <td>4</td>\n",
       "      <td>4</td>\n",
       "      <td>5</td>\n",
       "      <td>2</td>\n",
       "      <td>...</td>\n",
       "      <td>2.0</td>\n",
       "      <td>4.0</td>\n",
       "      <td>2.0</td>\n",
       "      <td>1.0</td>\n",
       "      <td>2.0</td>\n",
       "      <td>3.0</td>\n",
       "      <td>3.0</td>\n",
       "      <td>3.0</td>\n",
       "      <td>5.0</td>\n",
       "      <td>1.0</td>\n",
       "    </tr>\n",
       "  </tbody>\n",
       "</table>\n",
       "<p>5 rows × 85 columns</p>\n",
       "</div>"
      ],
      "text/plain": [
       "   AGER_TYP  ALTERSKATEGORIE_GROB  ANREDE_KZ  CJT_GESAMTTYP  \\\n",
       "0         2                     4          1            5.0   \n",
       "1        -1                     4          1            NaN   \n",
       "2        -1                     4          2            2.0   \n",
       "3         1                     4          1            2.0   \n",
       "4        -1                     3          1            6.0   \n",
       "\n",
       "   FINANZ_MINIMALIST  FINANZ_SPARER  FINANZ_VORSORGER  FINANZ_ANLEGER  \\\n",
       "0                  5              1                 5               1   \n",
       "1                  5              1                 5               1   \n",
       "2                  5              1                 5               1   \n",
       "3                  5              1                 5               2   \n",
       "4                  3              1                 4               4   \n",
       "\n",
       "   FINANZ_UNAUFFAELLIGER  FINANZ_HAUSBAUER    ...     PLZ8_ANTG1  PLZ8_ANTG2  \\\n",
       "0                      2                 2    ...            3.0         3.0   \n",
       "1                      3                 2    ...            NaN         NaN   \n",
       "2                      4                 4    ...            2.0         3.0   \n",
       "3                      1                 2    ...            3.0         2.0   \n",
       "4                      5                 2    ...            2.0         4.0   \n",
       "\n",
       "   PLZ8_ANTG3  PLZ8_ANTG4  PLZ8_BAUMAX  PLZ8_HHZ  PLZ8_GBZ  ARBEIT  \\\n",
       "0         1.0         0.0          1.0       5.0       5.0     1.0   \n",
       "1         NaN         NaN          NaN       NaN       NaN     NaN   \n",
       "2         3.0         1.0          3.0       3.0       2.0     3.0   \n",
       "3         1.0         0.0          1.0       3.0       4.0     1.0   \n",
       "4         2.0         1.0          2.0       3.0       3.0     3.0   \n",
       "\n",
       "   ORTSGR_KLS9  RELAT_AB  \n",
       "0          2.0       1.0  \n",
       "1          NaN       NaN  \n",
       "2          5.0       3.0  \n",
       "3          3.0       1.0  \n",
       "4          5.0       1.0  \n",
       "\n",
       "[5 rows x 85 columns]"
      ]
     },
     "execution_count": 150,
     "metadata": {},
     "output_type": "execute_result"
    }
   ],
   "source": [
    "# lets see some sample of customer data\n",
    "customers.head(5)"
   ]
  },
  {
   "cell_type": "code",
   "execution_count": 213,
   "metadata": {},
   "outputs": [],
   "source": [
    "# Apply preprocessing, feature transformation, and clustering from the general\n",
    "# demographics onto the customer data, obtaining cluster predictions for the\n",
    "# customer demographics data.\n",
    "\n",
    "# Apply Preprocessing - feature wrangling, selection, and engineering steps \n",
    "customers_clean = clean_data(customers)"
   ]
  },
  {
   "cell_type": "code",
   "execution_count": 208,
   "metadata": {},
   "outputs": [
    {
     "data": {
      "text/html": [
       "<div>\n",
       "<style scoped>\n",
       "    .dataframe tbody tr th:only-of-type {\n",
       "        vertical-align: middle;\n",
       "    }\n",
       "\n",
       "    .dataframe tbody tr th {\n",
       "        vertical-align: top;\n",
       "    }\n",
       "\n",
       "    .dataframe thead th {\n",
       "        text-align: right;\n",
       "    }\n",
       "</style>\n",
       "<table border=\"1\" class=\"dataframe\">\n",
       "  <thead>\n",
       "    <tr style=\"text-align: right;\">\n",
       "      <th></th>\n",
       "      <th>ALTERSKATEGORIE_GROB</th>\n",
       "      <th>ANREDE_KZ</th>\n",
       "      <th>FINANZ_MINIMALIST</th>\n",
       "      <th>FINANZ_SPARER</th>\n",
       "      <th>FINANZ_VORSORGER</th>\n",
       "      <th>FINANZ_ANLEGER</th>\n",
       "      <th>FINANZ_UNAUFFAELLIGER</th>\n",
       "      <th>FINANZ_HAUSBAUER</th>\n",
       "      <th>GEBURTSJAHR</th>\n",
       "      <th>GREEN_AVANTGARDE</th>\n",
       "      <th>...</th>\n",
       "      <th>CAMEO_DEUG_2015_5</th>\n",
       "      <th>CAMEO_DEUG_2015_6</th>\n",
       "      <th>CAMEO_DEUG_2015_7</th>\n",
       "      <th>CAMEO_DEUG_2015_8</th>\n",
       "      <th>CAMEO_DEUG_2015_9</th>\n",
       "      <th>CAMEO_DEUG_2015_X</th>\n",
       "      <th>PRAEGENDE_JUGENDJAHRE_GENERATION</th>\n",
       "      <th>PRAEGENDE_JUGENDJAHRE_MOVEMENT</th>\n",
       "      <th>CAMEO_INTL_2015_WEALTH</th>\n",
       "      <th>CAMEO_INTL_2015_LIFESTAGE</th>\n",
       "    </tr>\n",
       "  </thead>\n",
       "  <tbody>\n",
       "    <tr>\n",
       "      <th>0</th>\n",
       "      <td>4</td>\n",
       "      <td>1</td>\n",
       "      <td>5</td>\n",
       "      <td>1</td>\n",
       "      <td>5</td>\n",
       "      <td>1</td>\n",
       "      <td>2</td>\n",
       "      <td>2</td>\n",
       "      <td>0</td>\n",
       "      <td>1</td>\n",
       "      <td>...</td>\n",
       "      <td>0</td>\n",
       "      <td>0</td>\n",
       "      <td>0</td>\n",
       "      <td>0</td>\n",
       "      <td>0</td>\n",
       "      <td>0</td>\n",
       "      <td>1.0</td>\n",
       "      <td>1</td>\n",
       "      <td>1.0</td>\n",
       "      <td>3.0</td>\n",
       "    </tr>\n",
       "    <tr>\n",
       "      <th>2</th>\n",
       "      <td>4</td>\n",
       "      <td>2</td>\n",
       "      <td>5</td>\n",
       "      <td>1</td>\n",
       "      <td>5</td>\n",
       "      <td>1</td>\n",
       "      <td>4</td>\n",
       "      <td>4</td>\n",
       "      <td>0</td>\n",
       "      <td>1</td>\n",
       "      <td>...</td>\n",
       "      <td>1</td>\n",
       "      <td>0</td>\n",
       "      <td>0</td>\n",
       "      <td>0</td>\n",
       "      <td>0</td>\n",
       "      <td>0</td>\n",
       "      <td>1.0</td>\n",
       "      <td>1</td>\n",
       "      <td>3.0</td>\n",
       "      <td>4.0</td>\n",
       "    </tr>\n",
       "    <tr>\n",
       "      <th>3</th>\n",
       "      <td>4</td>\n",
       "      <td>1</td>\n",
       "      <td>5</td>\n",
       "      <td>1</td>\n",
       "      <td>5</td>\n",
       "      <td>2</td>\n",
       "      <td>1</td>\n",
       "      <td>2</td>\n",
       "      <td>0</td>\n",
       "      <td>0</td>\n",
       "      <td>...</td>\n",
       "      <td>0</td>\n",
       "      <td>0</td>\n",
       "      <td>0</td>\n",
       "      <td>0</td>\n",
       "      <td>0</td>\n",
       "      <td>0</td>\n",
       "      <td>0.0</td>\n",
       "      <td>0</td>\n",
       "      <td>2.0</td>\n",
       "      <td>4.0</td>\n",
       "    </tr>\n",
       "    <tr>\n",
       "      <th>4</th>\n",
       "      <td>3</td>\n",
       "      <td>1</td>\n",
       "      <td>3</td>\n",
       "      <td>1</td>\n",
       "      <td>4</td>\n",
       "      <td>4</td>\n",
       "      <td>5</td>\n",
       "      <td>2</td>\n",
       "      <td>1960</td>\n",
       "      <td>0</td>\n",
       "      <td>...</td>\n",
       "      <td>0</td>\n",
       "      <td>0</td>\n",
       "      <td>1</td>\n",
       "      <td>0</td>\n",
       "      <td>0</td>\n",
       "      <td>0</td>\n",
       "      <td>3.0</td>\n",
       "      <td>0</td>\n",
       "      <td>4.0</td>\n",
       "      <td>1.0</td>\n",
       "    </tr>\n",
       "    <tr>\n",
       "      <th>5</th>\n",
       "      <td>3</td>\n",
       "      <td>1</td>\n",
       "      <td>5</td>\n",
       "      <td>1</td>\n",
       "      <td>5</td>\n",
       "      <td>1</td>\n",
       "      <td>2</td>\n",
       "      <td>3</td>\n",
       "      <td>0</td>\n",
       "      <td>1</td>\n",
       "      <td>...</td>\n",
       "      <td>1</td>\n",
       "      <td>0</td>\n",
       "      <td>0</td>\n",
       "      <td>0</td>\n",
       "      <td>0</td>\n",
       "      <td>0</td>\n",
       "      <td>1.0</td>\n",
       "      <td>1</td>\n",
       "      <td>3.0</td>\n",
       "      <td>4.0</td>\n",
       "    </tr>\n",
       "  </tbody>\n",
       "</table>\n",
       "<p>5 rows × 146 columns</p>\n",
       "</div>"
      ],
      "text/plain": [
       "   ALTERSKATEGORIE_GROB  ANREDE_KZ  FINANZ_MINIMALIST  FINANZ_SPARER  \\\n",
       "0                     4          1                  5              1   \n",
       "2                     4          2                  5              1   \n",
       "3                     4          1                  5              1   \n",
       "4                     3          1                  3              1   \n",
       "5                     3          1                  5              1   \n",
       "\n",
       "   FINANZ_VORSORGER  FINANZ_ANLEGER  FINANZ_UNAUFFAELLIGER  FINANZ_HAUSBAUER  \\\n",
       "0                 5               1                      2                 2   \n",
       "2                 5               1                      4                 4   \n",
       "3                 5               2                      1                 2   \n",
       "4                 4               4                      5                 2   \n",
       "5                 5               1                      2                 3   \n",
       "\n",
       "   GEBURTSJAHR  GREEN_AVANTGARDE            ...              \\\n",
       "0            0                 1            ...               \n",
       "2            0                 1            ...               \n",
       "3            0                 0            ...               \n",
       "4         1960                 0            ...               \n",
       "5            0                 1            ...               \n",
       "\n",
       "   CAMEO_DEUG_2015_5  CAMEO_DEUG_2015_6  CAMEO_DEUG_2015_7  CAMEO_DEUG_2015_8  \\\n",
       "0                  0                  0                  0                  0   \n",
       "2                  1                  0                  0                  0   \n",
       "3                  0                  0                  0                  0   \n",
       "4                  0                  0                  1                  0   \n",
       "5                  1                  0                  0                  0   \n",
       "\n",
       "   CAMEO_DEUG_2015_9  CAMEO_DEUG_2015_X  PRAEGENDE_JUGENDJAHRE_GENERATION  \\\n",
       "0                  0                  0                               1.0   \n",
       "2                  0                  0                               1.0   \n",
       "3                  0                  0                               0.0   \n",
       "4                  0                  0                               3.0   \n",
       "5                  0                  0                               1.0   \n",
       "\n",
       "   PRAEGENDE_JUGENDJAHRE_MOVEMENT  CAMEO_INTL_2015_WEALTH  \\\n",
       "0                               1                     1.0   \n",
       "2                               1                     3.0   \n",
       "3                               0                     2.0   \n",
       "4                               0                     4.0   \n",
       "5                               1                     3.0   \n",
       "\n",
       "   CAMEO_INTL_2015_LIFESTAGE  \n",
       "0                        3.0  \n",
       "2                        4.0  \n",
       "3                        4.0  \n",
       "4                        1.0  \n",
       "5                        4.0  \n",
       "\n",
       "[5 rows x 146 columns]"
      ]
     },
     "execution_count": 208,
     "metadata": {},
     "output_type": "execute_result"
    }
   ],
   "source": [
    "customers_clean.head(5) # cleaned customer data"
   ]
  },
  {
   "cell_type": "code",
   "execution_count": 214,
   "metadata": {},
   "outputs": [],
   "source": [
    "## Apply transformations - remove remaining missing variables\n",
    "customers_clean.dropna(inplace=True)"
   ]
  },
  {
   "cell_type": "code",
   "execution_count": 216,
   "metadata": {},
   "outputs": [],
   "source": [
    "## Scale the data - standardize the data\n",
    "customers_scaled = scaler.fit_transform(customers_clean)"
   ]
  },
  {
   "cell_type": "code",
   "execution_count": 219,
   "metadata": {},
   "outputs": [],
   "source": [
    "# Apply Principal Components\n",
    "customers_pca = pca.fit_transform(customers_scaled)"
   ]
  },
  {
   "cell_type": "code",
   "execution_count": 220,
   "metadata": {},
   "outputs": [],
   "source": [
    "# Cluster the data \n",
    "k = 17\n",
    "kmeans = KMeans(k, random_state=1234, max_iter=30, n_jobs=-1).fit(customers_pca)\n",
    "customer_clusters = kmeans.predict(customers_pca)"
   ]
  },
  {
   "cell_type": "markdown",
   "metadata": {},
   "source": [
    "### Step 3.3: Compare Customer Data to Demographics Data\n",
    "\n",
    "At this point, you have clustered data based on demographics of the general population of Germany, and seen how the customer data for a mail-order sales company maps onto those demographic clusters. In this final substep, you will compare the two cluster distributions to see where the strongest customer base for the company is.\n",
    "\n",
    "Consider the proportion of persons in each cluster for the general population, and the proportions for the customers. If we think the company's customer base to be universal, then the cluster assignment proportions should be fairly similar between the two. If there are only particular segments of the population that are interested in the company's products, then we should see a mismatch from one to the other. If there is a higher proportion of persons in a cluster for the customer data compared to the general population (e.g. 5% of persons are assigned to a cluster for the general population, but 15% of the customer data is closest to that cluster's centroid) then that suggests the people in that cluster to be a target audience for the company. On the other hand, the proportion of the data in a cluster being larger in the general population than the customer data (e.g. only 2% of customers closest to a population centroid that captures 6% of the data) suggests that group of persons to be outside of the target demographics.\n",
    "\n",
    "Take a look at the following points in this step:\n",
    "\n",
    "- Compute the proportion of data points in each cluster for the general population and the customer data. Visualizations will be useful here: both for the individual dataset proportions, but also to visualize the ratios in cluster representation between groups. Seaborn's [`countplot()`](https://seaborn.pydata.org/generated/seaborn.countplot.html) or [`barplot()`](https://seaborn.pydata.org/generated/seaborn.barplot.html) function could be handy.\n",
    "  - Recall the analysis you performed in step 1.1.3 of the project, where you separated out certain data points from the dataset if they had more than a specified threshold of missing values. If you found that this group was qualitatively different from the main bulk of the data, you should treat this as an additional data cluster in this analysis. Make sure that you account for the number of data points in this subset, for both the general population and customer datasets, when making your computations!\n",
    "- Which cluster or clusters are overrepresented in the customer dataset compared to the general population? Select at least one such cluster and infer what kind of people might be represented by that cluster. Use the principal component interpretations from step 2.3 or look at additional components to help you make this inference. Alternatively, you can use the `.inverse_transform()` method of the PCA and StandardScaler objects to transform centroids back to the original data space and interpret the retrieved values directly.\n",
    "- Perform a similar investigation for the underrepresented clusters. Which cluster or clusters are underrepresented in the customer dataset compared to the general population, and what kinds of people are typified by these clusters?"
   ]
  },
  {
   "cell_type": "code",
   "execution_count": 221,
   "metadata": {},
   "outputs": [],
   "source": [
    "# Compare the proportion of data in each cluster for the customer data to the\n",
    "# proportion of data in each cluster for the general population.\n",
    "population_clusters = pd.Series(population_clusters)\n",
    "popc = population_clusters.value_counts().sort_index()\n",
    "popc = pd.Series(popc)\n",
    "\n",
    "customer_clusters = pd.Series(customer_clusters)\n",
    "custc = customer_clusters.value_counts().sort_index()\n",
    "custc = pd.Series(custc)\n"
   ]
  },
  {
   "cell_type": "code",
   "execution_count": 223,
   "metadata": {},
   "outputs": [
    {
     "data": {
      "text/html": [
       "<div>\n",
       "<style scoped>\n",
       "    .dataframe tbody tr th:only-of-type {\n",
       "        vertical-align: middle;\n",
       "    }\n",
       "\n",
       "    .dataframe tbody tr th {\n",
       "        vertical-align: top;\n",
       "    }\n",
       "\n",
       "    .dataframe thead th {\n",
       "        text-align: right;\n",
       "    }\n",
       "</style>\n",
       "<table border=\"1\" class=\"dataframe\">\n",
       "  <thead>\n",
       "    <tr style=\"text-align: right;\">\n",
       "      <th></th>\n",
       "      <th>cluster</th>\n",
       "      <th>population</th>\n",
       "      <th>customers</th>\n",
       "      <th>cust_prop</th>\n",
       "      <th>pop_prop</th>\n",
       "    </tr>\n",
       "  </thead>\n",
       "  <tbody>\n",
       "    <tr>\n",
       "      <th>0</th>\n",
       "      <td>0</td>\n",
       "      <td>2813</td>\n",
       "      <td>2638</td>\n",
       "      <td>0.021524</td>\n",
       "      <td>0.004514</td>\n",
       "    </tr>\n",
       "    <tr>\n",
       "      <th>1</th>\n",
       "      <td>1</td>\n",
       "      <td>38469</td>\n",
       "      <td>10696</td>\n",
       "      <td>0.087271</td>\n",
       "      <td>0.061727</td>\n",
       "    </tr>\n",
       "    <tr>\n",
       "      <th>2</th>\n",
       "      <td>2</td>\n",
       "      <td>43482</td>\n",
       "      <td>10432</td>\n",
       "      <td>0.085117</td>\n",
       "      <td>0.069771</td>\n",
       "    </tr>\n",
       "    <tr>\n",
       "      <th>3</th>\n",
       "      <td>3</td>\n",
       "      <td>39040</td>\n",
       "      <td>12561</td>\n",
       "      <td>0.102488</td>\n",
       "      <td>0.062643</td>\n",
       "    </tr>\n",
       "    <tr>\n",
       "      <th>4</th>\n",
       "      <td>4</td>\n",
       "      <td>29710</td>\n",
       "      <td>6117</td>\n",
       "      <td>0.049910</td>\n",
       "      <td>0.047672</td>\n",
       "    </tr>\n",
       "    <tr>\n",
       "      <th>5</th>\n",
       "      <td>5</td>\n",
       "      <td>46742</td>\n",
       "      <td>1957</td>\n",
       "      <td>0.015968</td>\n",
       "      <td>0.075002</td>\n",
       "    </tr>\n",
       "    <tr>\n",
       "      <th>6</th>\n",
       "      <td>6</td>\n",
       "      <td>41571</td>\n",
       "      <td>5891</td>\n",
       "      <td>0.048066</td>\n",
       "      <td>0.066705</td>\n",
       "    </tr>\n",
       "    <tr>\n",
       "      <th>7</th>\n",
       "      <td>7</td>\n",
       "      <td>52576</td>\n",
       "      <td>1518</td>\n",
       "      <td>0.012386</td>\n",
       "      <td>0.084363</td>\n",
       "    </tr>\n",
       "    <tr>\n",
       "      <th>8</th>\n",
       "      <td>8</td>\n",
       "      <td>33306</td>\n",
       "      <td>7118</td>\n",
       "      <td>0.058077</td>\n",
       "      <td>0.053443</td>\n",
       "    </tr>\n",
       "    <tr>\n",
       "      <th>9</th>\n",
       "      <td>9</td>\n",
       "      <td>40354</td>\n",
       "      <td>3545</td>\n",
       "      <td>0.028924</td>\n",
       "      <td>0.064752</td>\n",
       "    </tr>\n",
       "    <tr>\n",
       "      <th>10</th>\n",
       "      <td>10</td>\n",
       "      <td>21137</td>\n",
       "      <td>8705</td>\n",
       "      <td>0.071026</td>\n",
       "      <td>0.033916</td>\n",
       "    </tr>\n",
       "    <tr>\n",
       "      <th>11</th>\n",
       "      <td>11</td>\n",
       "      <td>45150</td>\n",
       "      <td>8549</td>\n",
       "      <td>0.069753</td>\n",
       "      <td>0.072447</td>\n",
       "    </tr>\n",
       "    <tr>\n",
       "      <th>12</th>\n",
       "      <td>12</td>\n",
       "      <td>19470</td>\n",
       "      <td>11848</td>\n",
       "      <td>0.096670</td>\n",
       "      <td>0.031241</td>\n",
       "    </tr>\n",
       "    <tr>\n",
       "      <th>13</th>\n",
       "      <td>13</td>\n",
       "      <td>41313</td>\n",
       "      <td>10127</td>\n",
       "      <td>0.082628</td>\n",
       "      <td>0.066291</td>\n",
       "    </tr>\n",
       "    <tr>\n",
       "      <th>14</th>\n",
       "      <td>14</td>\n",
       "      <td>36567</td>\n",
       "      <td>8268</td>\n",
       "      <td>0.067460</td>\n",
       "      <td>0.058675</td>\n",
       "    </tr>\n",
       "    <tr>\n",
       "      <th>15</th>\n",
       "      <td>15</td>\n",
       "      <td>37775</td>\n",
       "      <td>2982</td>\n",
       "      <td>0.024331</td>\n",
       "      <td>0.060614</td>\n",
       "    </tr>\n",
       "    <tr>\n",
       "      <th>16</th>\n",
       "      <td>16</td>\n",
       "      <td>53736</td>\n",
       "      <td>9609</td>\n",
       "      <td>0.078402</td>\n",
       "      <td>0.086224</td>\n",
       "    </tr>\n",
       "  </tbody>\n",
       "</table>\n",
       "</div>"
      ],
      "text/plain": [
       "    cluster  population  customers  cust_prop  pop_prop\n",
       "0         0        2813       2638   0.021524  0.004514\n",
       "1         1       38469      10696   0.087271  0.061727\n",
       "2         2       43482      10432   0.085117  0.069771\n",
       "3         3       39040      12561   0.102488  0.062643\n",
       "4         4       29710       6117   0.049910  0.047672\n",
       "5         5       46742       1957   0.015968  0.075002\n",
       "6         6       41571       5891   0.048066  0.066705\n",
       "7         7       52576       1518   0.012386  0.084363\n",
       "8         8       33306       7118   0.058077  0.053443\n",
       "9         9       40354       3545   0.028924  0.064752\n",
       "10       10       21137       8705   0.071026  0.033916\n",
       "11       11       45150       8549   0.069753  0.072447\n",
       "12       12       19470      11848   0.096670  0.031241\n",
       "13       13       41313      10127   0.082628  0.066291\n",
       "14       14       36567       8268   0.067460  0.058675\n",
       "15       15       37775       2982   0.024331  0.060614\n",
       "16       16       53736       9609   0.078402  0.086224"
      ]
     },
     "execution_count": 223,
     "metadata": {},
     "output_type": "execute_result"
    }
   ],
   "source": [
    "# Create a dataset summarizing clustering information\n",
    "pop_cust = pd.concat([popc, custc], axis=1).reset_index()\n",
    "pop_cust.columns = ['cluster', 'population', 'customers']\n",
    "\n",
    "# Calculate proprotions\n",
    "pop_cust['cust_prop'] = pop_cust['customers'] / pop_cust['customers'].sum()\n",
    "pop_cust['pop_prop'] = pop_cust['population'] / pop_cust['population'].sum()\n",
    "pop_cust"
   ]
  },
  {
   "cell_type": "code",
   "execution_count": 224,
   "metadata": {},
   "outputs": [
    {
     "data": {
      "image/png": "[encoded data removed]",
      "text/plain": [
       "<matplotlib.figure.Figure at 0x7f6f29749f98>"
      ]
     },
     "metadata": {
      "needs_background": "light"
     },
     "output_type": "display_data"
    }
   ],
   "source": [
    "# Compare visually\n",
    "pop_cust.plot(x='cluster', y=['pop_prop', 'cust_prop'], kind='bar', figsize=(18, 8))\n",
    "plt.title('Population vs. Customer Data Comparison')\n",
    "plt.xlabel('Cluster Number (-1 represents missing rows data)')\n",
    "plt.ylabel('Proportion of persons in cluster')\n",
    "plt.show()"
   ]
  },
  {
   "cell_type": "code",
   "execution_count": 225,
   "metadata": {},
   "outputs": [
    {
     "data": {
      "text/plain": [
       "2     2.485123\n",
       "3     1.094373\n",
       "7     0.651412\n",
       "25    0.311030\n",
       "8     0.295150\n",
       "dtype: float64"
      ]
     },
     "execution_count": 225,
     "metadata": {},
     "output_type": "execute_result"
    }
   ],
   "source": [
    "# What kinds of people are part of a cluster that is overrepresented in the\n",
    "# customer data compared to the general population?\n",
    "# Cluster 12\n",
    "\n",
    "# Looking at cluster 12- lets get the 5 top principal components of cluster 12\n",
    "pc12 = kmeans.cluster_centers_[12]\n",
    "pc12 = pd.Series(pc12)\n",
    "pc12.sort_values(ascending=False, inplace=True)\n",
    "pc12.head(5)"
   ]
  },
  {
   "cell_type": "code",
   "execution_count": 226,
   "metadata": {},
   "outputs": [
    {
     "data": {
      "text/plain": [
       "ALTERSKATEGORIE_GROB                  3.0\n",
       "ANREDE_KZ                             1.0\n",
       "FINANZ_MINIMALIST                     4.0\n",
       "FINANZ_SPARER                         2.0\n",
       "FINANZ_VORSORGER                      4.0\n",
       "FINANZ_ANLEGER                        2.0\n",
       "FINANZ_UNAUFFAELLIGER                 2.0\n",
       "FINANZ_HAUSBAUER                      3.0\n",
       "GEBURTSJAHR                         988.0\n",
       "GREEN_AVANTGARDE                      0.0\n",
       "HEALTH_TYP                            2.0\n",
       "RETOURTYP_BK_S                        3.0\n",
       "SEMIO_SOZ                             4.0\n",
       "SEMIO_FAM                             4.0\n",
       "SEMIO_REL                             3.0\n",
       "SEMIO_MAT                             4.0\n",
       "SEMIO_VERT                            5.0\n",
       "SEMIO_LUST                            5.0\n",
       "SEMIO_ERL                             5.0\n",
       "SEMIO_KULT                            4.0\n",
       "SEMIO_RAT                             3.0\n",
       "SEMIO_KRIT                            4.0\n",
       "SEMIO_DOM                             4.0\n",
       "SEMIO_KAEM                            4.0\n",
       "SEMIO_PFLICHT                         3.0\n",
       "SEMIO_TRADV                           3.0\n",
       "SOHO_KZ                               0.0\n",
       "ALTER_HH                             11.0\n",
       "ANZ_PERSONEN                          2.0\n",
       "ANZ_TITEL                             0.0\n",
       "                                    ...  \n",
       "TITEL_KZ_5.0                          0.0\n",
       "VERS_TYP_-1                           0.0\n",
       "VERS_TYP_1                            0.0\n",
       "VERS_TYP_2                            1.0\n",
       "ZABEOTYP_1                            0.0\n",
       "ZABEOTYP_2                            0.0\n",
       "ZABEOTYP_3                            0.0\n",
       "ZABEOTYP_4                            0.0\n",
       "ZABEOTYP_5                            0.0\n",
       "ZABEOTYP_6                            0.0\n",
       "GEBAEUDETYP_1.0                       0.0\n",
       "GEBAEUDETYP_2.0                      -0.0\n",
       "GEBAEUDETYP_3.0                       0.0\n",
       "GEBAEUDETYP_4.0                      -0.0\n",
       "GEBAEUDETYP_6.0                      -0.0\n",
       "GEBAEUDETYP_8.0                       0.0\n",
       "CAMEO_DEUG_2015_1                     0.0\n",
       "CAMEO_DEUG_2015_2                     0.0\n",
       "CAMEO_DEUG_2015_3                     0.0\n",
       "CAMEO_DEUG_2015_4                    -0.0\n",
       "CAMEO_DEUG_2015_5                     0.0\n",
       "CAMEO_DEUG_2015_6                     0.0\n",
       "CAMEO_DEUG_2015_7                     0.0\n",
       "CAMEO_DEUG_2015_8                     0.0\n",
       "CAMEO_DEUG_2015_9                     0.0\n",
       "CAMEO_DEUG_2015_X                     0.0\n",
       "PRAEGENDE_JUGENDJAHRE_GENERATION      2.0\n",
       "PRAEGENDE_JUGENDJAHRE_MOVEMENT        0.0\n",
       "CAMEO_INTL_2015_WEALTH                3.0\n",
       "CAMEO_INTL_2015_LIFESTAGE             3.0\n",
       "Length: 146, dtype: float64"
      ]
     },
     "execution_count": 226,
     "metadata": {},
     "output_type": "execute_result"
    }
   ],
   "source": [
    "# Lets; transform cluster 12 to the original feature values\n",
    "pc12 = scaler.inverse_transform(pca.inverse_transform(pc12))\n",
    "pc12 = pd.Series(pc12).round()\n",
    "pc12.index = customers_clean.columns\n",
    "pc12"
   ]
  },
  {
   "cell_type": "code",
   "execution_count": 228,
   "metadata": {},
   "outputs": [
    {
     "data": {
      "image/png": "[encoded data removed]",
      "text/plain": [
       "<matplotlib.figure.Figure at 0x7f6f4d7cff28>"
      ]
     },
     "metadata": {
      "needs_background": "light"
     },
     "output_type": "display_data"
    },
    {
     "name": "stdout",
     "output_type": "stream",
     "text": [
      "Top features mapped to Principal component: 2\n",
      "FINANZ_SPARER                       0.2753\n",
      "PRAEGENDE_JUGENDJAHRE_GENERATION    0.2751\n",
      "FINANZ_ANLEGER                      0.2502\n",
      "AGER_TYP_-1                         0.2214\n",
      "SEMIO_PFLICHT                       0.1889\n",
      "FINANZTYP_5                        -0.1316\n",
      "W_KEIT_KIND_HH                     -0.1642\n",
      "SEMIO_LUST                         -0.1846\n",
      "ALTERSKATEGORIE_GROB               -0.2180\n",
      "FINANZ_VORSORGER                   -0.2705\n",
      "Name: 1, dtype: float64\n"
     ]
    }
   ],
   "source": [
    "# Checking 5 top principal components of cluster 12\n",
    "plot_pca_components(data=customers_clean, pca=pca, no_component=2)"
   ]
  },
  {
   "cell_type": "code",
   "execution_count": 229,
   "metadata": {},
   "outputs": [
    {
     "data": {
      "text/plain": [
       "4    15.081434\n",
       "0     2.518910\n",
       "6     2.341439\n",
       "1     2.153632\n",
       "3     1.530818\n",
       "dtype: float64"
      ]
     },
     "execution_count": 229,
     "metadata": {},
     "output_type": "execute_result"
    }
   ],
   "source": [
    "# What kinds of people are part of a cluster that is underrepresented in the\n",
    "# customer data compared to the general population?\n",
    "# cluster 7\n",
    "\n",
    "# Looking at cluster 7- lets get the 5 top principal components of cluster 7\n",
    "pc7 = kmeans.cluster_centers_[7]\n",
    "pc7 = pd.Series(pc7)\n",
    "pc7.sort_values(ascending=False, inplace=True)\n",
    "pc7.head(5)"
   ]
  },
  {
   "cell_type": "code",
   "execution_count": 230,
   "metadata": {},
   "outputs": [
    {
     "data": {
      "text/plain": [
       "ALTERSKATEGORIE_GROB                  3.0\n",
       "ANREDE_KZ                             1.0\n",
       "FINANZ_MINIMALIST                     4.0\n",
       "FINANZ_SPARER                         2.0\n",
       "FINANZ_VORSORGER                      4.0\n",
       "FINANZ_ANLEGER                        2.0\n",
       "FINANZ_UNAUFFAELLIGER                 2.0\n",
       "FINANZ_HAUSBAUER                      3.0\n",
       "GEBURTSJAHR                         988.0\n",
       "GREEN_AVANTGARDE                      0.0\n",
       "HEALTH_TYP                            2.0\n",
       "RETOURTYP_BK_S                        3.0\n",
       "SEMIO_SOZ                             4.0\n",
       "SEMIO_FAM                             4.0\n",
       "SEMIO_REL                             3.0\n",
       "SEMIO_MAT                             4.0\n",
       "SEMIO_VERT                            5.0\n",
       "SEMIO_LUST                            5.0\n",
       "SEMIO_ERL                             5.0\n",
       "SEMIO_KULT                            4.0\n",
       "SEMIO_RAT                             3.0\n",
       "SEMIO_KRIT                            4.0\n",
       "SEMIO_DOM                             4.0\n",
       "SEMIO_KAEM                            4.0\n",
       "SEMIO_PFLICHT                         3.0\n",
       "SEMIO_TRADV                           3.0\n",
       "SOHO_KZ                               0.0\n",
       "ALTER_HH                             11.0\n",
       "ANZ_PERSONEN                          2.0\n",
       "ANZ_TITEL                             0.0\n",
       "                                    ...  \n",
       "TITEL_KZ_5.0                          0.0\n",
       "VERS_TYP_-1                           0.0\n",
       "VERS_TYP_1                            0.0\n",
       "VERS_TYP_2                            1.0\n",
       "ZABEOTYP_1                            0.0\n",
       "ZABEOTYP_2                            0.0\n",
       "ZABEOTYP_3                            0.0\n",
       "ZABEOTYP_4                            0.0\n",
       "ZABEOTYP_5                            0.0\n",
       "ZABEOTYP_6                            0.0\n",
       "GEBAEUDETYP_1.0                       0.0\n",
       "GEBAEUDETYP_2.0                      -0.0\n",
       "GEBAEUDETYP_3.0                       0.0\n",
       "GEBAEUDETYP_4.0                      -0.0\n",
       "GEBAEUDETYP_6.0                      -0.0\n",
       "GEBAEUDETYP_8.0                       0.0\n",
       "CAMEO_DEUG_2015_1                     0.0\n",
       "CAMEO_DEUG_2015_2                     0.0\n",
       "CAMEO_DEUG_2015_3                     0.0\n",
       "CAMEO_DEUG_2015_4                    -0.0\n",
       "CAMEO_DEUG_2015_5                     0.0\n",
       "CAMEO_DEUG_2015_6                     0.0\n",
       "CAMEO_DEUG_2015_7                     0.0\n",
       "CAMEO_DEUG_2015_8                     0.0\n",
       "CAMEO_DEUG_2015_9                     0.0\n",
       "CAMEO_DEUG_2015_X                     0.0\n",
       "PRAEGENDE_JUGENDJAHRE_GENERATION      2.0\n",
       "PRAEGENDE_JUGENDJAHRE_MOVEMENT        0.0\n",
       "CAMEO_INTL_2015_WEALTH                3.0\n",
       "CAMEO_INTL_2015_LIFESTAGE             3.0\n",
       "Length: 146, dtype: float64"
      ]
     },
     "execution_count": 230,
     "metadata": {},
     "output_type": "execute_result"
    }
   ],
   "source": [
    "# Lets; transform cluster 7 to the original feature values\n",
    "pc7 = scaler.inverse_transform(pca.inverse_transform(pc7))\n",
    "pc7 = pd.Series(pc12).round()\n",
    "pc7.index = customers_clean.columns\n",
    "pc7"
   ]
  },
  {
   "cell_type": "code",
   "execution_count": 231,
   "metadata": {},
   "outputs": [
    {
     "data": {
      "image/png": "[encoded data removed]",
      "text/plain": [
       "<matplotlib.figure.Figure at 0x7f6f29775748>"
      ]
     },
     "metadata": {
      "needs_background": "light"
     },
     "output_type": "display_data"
    },
    {
     "name": "stdout",
     "output_type": "stream",
     "text": [
      "Top features mapped to Principal component: 4\n",
      "PRAEGENDE_JUGENDJAHRE_MOVEMENT    0.3071\n",
      "GREEN_AVANTGARDE                  0.3071\n",
      "LP_STATUS_GROB_5.0                0.2286\n",
      "SEMIO_DOM                         0.2078\n",
      "EWDICHTE                          0.2058\n",
      "INNENSTADT                       -0.1594\n",
      "BALLRAUM                         -0.1649\n",
      "KKK                              -0.1656\n",
      "HH_EINKOMMEN_SCORE               -0.2007\n",
      "LP_STATUS_GROB_4.0               -0.2295\n",
      "Name: 3, dtype: float64\n"
     ]
    }
   ],
   "source": [
    "# Checking 5 top principal components of cluster 7\n",
    "plot_pca_components(data=customers_clean, pca=pca, no_component=4)"
   ]
  },
  {
   "cell_type": "markdown",
   "metadata": {},
   "source": [
    "### Discussion 3.3: Compare Customer Data to Demographics Data\n",
    "\n",
    "(Double-click this cell and replace this text with your own text, reporting findings and conclusions from the clustering analysis. Can we describe segments of the population that are relatively popular with the mail-order company, or relatively unpopular with the company?)\n",
    "\n",
    "\n",
    "**Top features mapped to Principal component: for cluster 12**\n",
    "FINANZ_SPARER                       Financial typology(money-saver)\n",
    "PRAEGENDE_JUGENDJAHRE_GENERATION    Person's Generation (40s to 90s)\n",
    "FINANZ_ANLEGER                      Financial typology (investor)\n",
    "AGER_TYP_-1                         Best-ager typology (unknown)\n",
    "SEMIO_PFLICHT                       Personality typology (dutiful)\n",
    "FINANZTYP_5                         Most descriptive financial type for individual (investor)\n",
    "W_KEIT_KIND_HH                      Likelihood of children in household\n",
    "SEMIO_LUST                          Personality typology(sensual-minded)\n",
    "ALTERSKATEGORIE_GROB               Estimated age based on given name analysis\n",
    "FINANZ_VORSORGER                   Financial typology (be prepared)\n",
    "\n",
    "Cluster 12 is one of the clusters overrepresented in the customer data compared to the general population. Looking at most  influencing components and their weights, it the cluster has older individual who are money savers and investors, living with  children - they are dutiful to households are therefore less likely to change their shopping habits.\n",
    "\n",
    "\n",
    "**Top features mapped to Principal component: for cluster 7**\n",
    "PRAEGENDE_JUGENDJAHRE_MOVEMENT    Person's movement (avantgarde or mainstream)\n",
    "GREEN_AVANTGARDE                  Membership in environmental sustainability as part of youth\n",
    "LP_STATUS_GROB_5.0                Social status (top earners)\n",
    "SEMIO_DOM                         Personality typology (dominant-minded)\n",
    "EWDICHTE                          Density of households per square kilometer\n",
    "INNENSTADT                        Distance to city center (downtown)\n",
    "BALLRAUM                          Distance to nearest urban center\n",
    "KKK                              Purchasing power in region\n",
    "HH_EINKOMMEN_SCORE               Estimated household net income\n",
    "LP_STATUS_GROB_4.0               Social status (houseownders)\n",
    "\n",
    "Cluster 7 is one of the clusters underrepresented in the customer data compared to the general population. Looking at most  influencing components and their weights, it the cluster has people with higher incomes, higher purchasing power and care about their environment - they would be more flexible and hence more likely to go for a newer way to shop instead of going to the shopping mall.\n"
   ]
  },
  {
   "cell_type": "markdown",
   "metadata": {},
   "source": [
    "> Congratulations on making it this far in the project! Before you finish, make sure to check through the entire notebook from top to bottom to make sure that your analysis follows a logical flow and all of your findings are documented in **Discussion** cells. Once you've checked over all of your work, you should export the notebook as an HTML document to submit for evaluation. You can do this from the menu, navigating to **File -> Download as -> HTML (.html)**. You will submit both that document and this notebook for your project submission."
   ]
  },
  {
   "cell_type": "code",
   "execution_count": null,
   "metadata": {},
   "outputs": [],
   "source": []
  }
 ],
 "metadata": {
  "kernelspec": {
   "display_name": "Python 3",
   "language": "python",
   "name": "python3"
  },
  "language_info": {
   "codemirror_mode": {
    "name": "ipython",
    "version": 3
   },
   "file_extension": ".py",
   "mimetype": "text/x-python",
   "name": "python",
   "nbconvert_exporter": "python",
   "pygments_lexer": "ipython3",
   "version": "3.6.3"
  }
 },
 "nbformat": 4,
 "nbformat_minor": 2
}
